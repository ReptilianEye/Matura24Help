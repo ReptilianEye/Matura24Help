{
 "cells": [
  {
   "cell_type": "markdown",
   "metadata": {},
   "source": [
    "# Zadania z wykorzystaniem danych z pliku \"dane1.txt\" i \"dane2.txt\"\n"
   ]
  },
  {
   "cell_type": "markdown",
   "metadata": {},
   "source": [
    "### Zadanie 0. Wczytaj dane wykorzystując odpowiednie pliki. Sam wybierz jaką strukture wybrać, ale pamiętaj o tym, żeby czym lepiej je wczytasz tym łatwiej będzie ci je przetworzyć.\n"
   ]
  },
  {
   "cell_type": "markdown",
   "metadata": {},
   "source": [
    "## Zadania do danych dane1.txt\n",
    "\n",
    "#### W pliku dane1.txt znajduje się 300 lini, każda linia zawiera 500 liczb całkowitych oddzielonych spacją.\n",
    "\n",
    "---\n",
    "\n",
    "---\n"
   ]
  },
  {
   "cell_type": "markdown",
   "metadata": {},
   "source": [
    "#### Zad 1.1 Jaka jest największa i najmniejsza liczba w całym pliku? Ile tych największych i najmniejszych liczb jest?\n",
    "\n",
    "Dla danych dane1przyklad.txt wynik to: Największa jest 97 i jest jej 1, a najmniejsza 0 i jest jej 26\n",
    "\n",
    "---\n"
   ]
  },
  {
   "cell_type": "markdown",
   "metadata": {},
   "source": [
    "#### Zad 1.2 Ile w pliku jest liczb pierwszych. Która z nich jest największa?\n",
    "\n",
    "Dla danych dane1przyklad.txt wynik to: Liczb pierwszych jest 85, a największa z nich to 97\n",
    "\n",
    "---\n"
   ]
  },
  {
   "cell_type": "markdown",
   "metadata": {},
   "source": [
    "Zad 1.3 Jaki jest najdłuższy ciąg takich liczb, że każda kolejna jest taka sama jak poprzednia patrząc w każdym rzędzie. Wypisz jego długość i liczbe z której się składa.\n",
    "\n",
    "Dla danych dane1przyklad.txt wynik to: Najdłuższy ciąg ma długość 6 i składa się z 4.\n",
    "\n",
    "---\n"
   ]
  },
  {
   "cell_type": "markdown",
   "metadata": {},
   "source": [
    "Zad 1.4 To co wyżej ale w kolumnie.\n",
    "\n",
    "Dla danych dane1przyklad.txt wynik to: Najdłuższy ciąg ma długość 4 i składa się z 3.\n",
    "\n",
    "---\n"
   ]
  },
  {
   "cell_type": "markdown",
   "metadata": {},
   "source": [
    "Zad 1.5 Jaka jest długość najdłuższego rosnącego spójnego ciągu ciągu liczb, takiego, że każda następna liczba jest większa od poprzedniej. Wypisz jego długość i element od którego się zaczyna. W rzędzie. Jeśli jest wiele takich ciągów weź pod uwagę tylko pierwszy.\n",
    "\n",
    "Dla danych dane1przyklad.txt wynik to: Najdłuższy ciąg ma długość 5 i zaczyna się od 0.\n",
    "\n",
    "---\n"
   ]
  },
  {
   "cell_type": "markdown",
   "metadata": {},
   "source": [
    "zad 1.6 To co wyżej ale w kolumnie. :)\n",
    "\n",
    "Dla danych dane1przyklad.txt wynik to: Najdłuższy ciąg ma długość 3 i zaczyna się od 0.\n",
    "\n",
    "---\n"
   ]
  },
  {
   "cell_type": "markdown",
   "metadata": {},
   "source": [
    "Zad 1.7 Ile jest unikatowych liczb w pliku? np. jakby w pliku były liczby 1,2,3,3,3,3,5 to są 4 unikatowe liczby (1,2,3,5).\n",
    "\n",
    "Dla danych dane1przyklad.txt wynik to: Unikatowych liczb jest 12.\n",
    "\n",
    "---\n"
   ]
  },
  {
   "cell_type": "markdown",
   "metadata": {},
   "source": [
    "Zad 1.8 Ile jest liczb, które występują tylko raz?\n",
    "\n",
    "Dla danych dane1przyklad.txt wynik to: Liczb które występują tylko raz jest 1. (liczba 97)\n",
    "\n",
    "---\n"
   ]
  },
  {
   "cell_type": "markdown",
   "metadata": {},
   "source": [
    "#### odpowiedzi do zadań\n",
    "\n",
    "<details>\n",
    "  <summary>1.1</summary>\n",
    "  Największa to 24, której jest 1, najmniejsza to 0, której jest 6072\n",
    "</details>\n",
    "<br>\n",
    "<details>\n",
    "  <summary>1.2</summary>\n",
    "  Liczb pierwszych jest 56185, a największa z nich to 23\n",
    "</details>\n",
    "<br>\n",
    "<details>\n",
    "  <summary>1.3</summary>\n",
    "  Najdłuższy ciąg ma długość 24 i składa się z 4\n",
    "</details>\n",
    "<br>\n",
    "<details>\n",
    "  <summary>1.4</summary>\n",
    "  Najdłuższy ciąg ma długość 5 i składa się z 23\n",
    "</details>\n",
    "<br>\n",
    "<details>\n",
    "  <summary>1.5</summary>\n",
    "  Najdłuższy ciąg ma długość 8 i zaczyna się od 0\n",
    "</details>\n",
    "<br>\n",
    "<details>\n",
    "  <summary>1.6</summary>\n",
    "  Najdłuższy ciąg ma długość 8 i zaczyna się od 1\n",
    "</details>\n",
    "<br>\n",
    "<details>\n",
    "  <summary>1.7</summary>\n",
    "  Unikatowych liczb jest 25\n",
    "</details>\n",
    "<br>\n",
    "<details>\n",
    "  <summary>1.8</summary>\n",
    "  Liczb które występują tylko raz jest: 1.\n",
    "</details>\n"
   ]
  },
  {
   "cell_type": "markdown",
   "metadata": {},
   "source": [
    "---\n",
    "---\n",
    "\n",
    "---\n"
   ]
  },
  {
   "cell_type": "markdown",
   "metadata": {},
   "source": [
    "## Zadania do danych dane2.txt\n",
    "\n",
    "#### W pliku dane2.txt znajduje się 300 linii, każda linia zawiera liczbę całkowitą, która systemie o jakiej podstawie zapisana jest liczba, która znajduje się obok.\n"
   ]
  },
  {
   "cell_type": "markdown",
   "metadata": {},
   "source": [
    "Zad 2.1 Znajdz najwiekszą i najmniejszą liczbę w pliku (wynik zwróc w postaci dziesiątkowej).\n",
    "\n",
    "Dla danych dane2przyklad.txt wynik to: Największa to 22654, a najmniejsza to 316\n",
    "\n",
    "---\n"
   ]
  },
  {
   "cell_type": "markdown",
   "metadata": {},
   "source": [
    "Zad 2.2 W którym systemie jest zapisane najwięcej liczb? Ile ich jest?\n",
    "\n",
    "Dla danych dane2przyklad.txt wynik to: Najwięcej liczb jest w systemie 8 i jest ich 3\n",
    "\n",
    "---\n"
   ]
  },
  {
   "cell_type": "markdown",
   "metadata": {},
   "source": [
    "Zad 2.3 Jaka jest suma wszystkich liczb zapisanych w systemie dwójkowym. Odpowiedź podaj w systemie dwójkowym.\n",
    "\n",
    "Dla danych dane2przyklad.txt wynik to: Suma liczb zapisanych w systemie dwójkowym to 110001011100110\n",
    "\n",
    "---\n"
   ]
  },
  {
   "cell_type": "markdown",
   "metadata": {},
   "source": [
    "Zad 2.4 Ile jest takich liczb, które zapisane w systemie dwójkowym mają więcej zer niż jedynek? (Weź pod uwagę wszystkie liczby, nie tylko te które są zapisane na początku w systemie dwójkowym)\n",
    "\n",
    "Dla danych dane2przyklad.txt wynik to: Liczb które mają więcej zer niż jedynek jest 3\n",
    "\n",
    "---\n"
   ]
  },
  {
   "cell_type": "markdown",
   "metadata": {},
   "source": [
    "Zad 2.5 Ile jest takich liczb, które są palindromami w systemie, w którym są zapisane? (palindrom to liczba, która czytana od lewej do prawej i od prawej do lewej jest taka sama np. 11010101011)\n",
    "\n",
    "Dla danych dane2przyklad.txt wynik to: Liczb które są palindromami jest 2\n",
    "\n",
    "---\n"
   ]
  },
  {
   "cell_type": "markdown",
   "metadata": {},
   "source": [
    "Zad 2.6\n",
    "Jaka jest długość najdłuższej liczby zapisanej w każdym systemie? Dla każdego systemu wypisz tę najdłuższą długość.\n",
    "\n",
    "Dla dane2przyklad.txt:\n",
    "System | Długość najdłuższej\n",
    "--- | ---\n",
    "2 | 14\n",
    "4 | 7\n",
    "8 | 5\n",
    "16 | 4\n"
   ]
  },
  {
   "cell_type": "markdown",
   "metadata": {},
   "source": [
    "#### odpowiedzi do zadań pliku dane2.txt\n",
    "\n",
    "<details>\n",
    "  <summary>2.1</summary>\n",
    "  Największa to 21049681, najmniejsza to 6\n",
    "</details>\n",
    "<br>\n",
    "<details>\n",
    "  <summary>2.2</summary>\n",
    "  Najwięcej jest liczb w systemie 4 i jest ich 90.\n",
    "</details>\n",
    "<br>\n",
    "<details>\n",
    "  <summary>2.3</summary>\n",
    "  Suma wynosi 111111100011011000\n",
    "</details>\n",
    "<br>\n",
    "<details>\n",
    "  <summary>2.4</summary>\n",
    "  Liczb w których zapisie binarnym jest więcej 0 niż 1 jest 151\n",
    "</details>\n",
    "<br>\n",
    "<details>\n",
    "  <summary>2.5</summary>\n",
    "  Palindromów jest 8\n",
    "</details>\n",
    "<br>\n",
    "<details>\n",
    "  <summary>2.6</summary>\n",
    "  System | Długość najdłuższej <br>\n",
    "2 | 14 <br>\n",
    "4 | 7 <br>\n",
    "8 | 5 <br>\n",
    "16 | 7 <br>\n",
    "</details>\n"
   ]
  }
 ],
 "metadata": {
  "kernelspec": {
   "display_name": "Python 3",
   "language": "python",
   "name": "python3"
  },
  "language_info": {
   "codemirror_mode": {
    "name": "ipython",
    "version": 3
   },
   "file_extension": ".py",
   "mimetype": "text/x-python",
   "name": "python",
   "nbconvert_exporter": "python",
   "pygments_lexer": "ipython3",
   "version": "3.11.6"
  }
 },
 "nbformat": 4,
 "nbformat_minor": 2
}

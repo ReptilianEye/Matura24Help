{
 "cells": [
  {
   "cell_type": "markdown",
   "metadata": {},
   "source": [
    "# Zadania z wykorzystaniem danych z pliku \"dane1.txt\" i \"dane2.txt\"\n"
   ]
  },
  {
   "cell_type": "markdown",
   "metadata": {},
   "source": [
    "### Zadanie 0. Wczytaj dane wykorzystując odpowiednie pliki. Sam wybierz jaką strukture wybrać, ale pamiętaj o tym, żeby czym lepiej je wczytasz tym łatwiej będzie ci je przetworzyć.\n"
   ]
  },
  {
   "cell_type": "markdown",
   "metadata": {},
   "source": [
    "## Zadania do danych dane1.txt\n",
    "\n",
    "#### W pliku dane1.txt znajduje się 300 lini, każda linia zawiera 500 liczb całkowitych oddzielonych spacją.\n"
   ]
  },
  {
   "cell_type": "markdown",
   "metadata": {},
   "source": [
    "Zad 1.1 Jaka jest największa i najmniejsza liczba w całym pliku? Ile tych największych i najmniejszych liczb jest?\n"
   ]
  },
  {
   "cell_type": "markdown",
   "metadata": {},
   "source": [
    "Zad 1.2 Ile w pliku jest liczb pierwszych. Która z nich jest największa?\n"
   ]
  },
  {
   "cell_type": "markdown",
   "metadata": {},
   "source": [
    "Zad 1.3 Jaki jest najdłuższy ciąg takich liczb, że każda kolejna jest taka sama jak poprzednia patrząc w każdym rzędzie. Wypisz jego długość.\n"
   ]
  },
  {
   "cell_type": "markdown",
   "metadata": {},
   "source": [
    "Zad 1.4 To co wyżej ale w kolumnie.\n"
   ]
  },
  {
   "cell_type": "markdown",
   "metadata": {},
   "source": [
    "Zad 1.5 Jaka jest długość najdłuższego rosnącego spójnego ciągu ciągu liczb, takiego, że każda następna liczba jest większa od poprzedniej. Wypisz jego długość. W rzędzie.\n"
   ]
  },
  {
   "cell_type": "markdown",
   "metadata": {},
   "source": [
    "zad 1.6 To co wyżej ale w kolumnie. :)\n"
   ]
  },
  {
   "cell_type": "markdown",
   "metadata": {},
   "source": [
    "Zad 1.7 Ile jest unikatowych liczb w pliku? np. jakby w pliku były liczby 1,2,3,3,3,3,5 to są 4 unikatowe liczby (1,2,3,5).\n"
   ]
  },
  {
   "cell_type": "markdown",
   "metadata": {},
   "source": [
    "Zad 1.8 Ile jest liczb, które występują tylko raz?\n"
   ]
  },
  {
   "cell_type": "markdown",
   "metadata": {},
   "source": [
    "## Zadania do danych dane2.txt\n",
    "\n",
    "#### W pliku dane2.txt znajduje się 300 linii, każda linia zawiera liczbę całkowitą, która systemie o jakiej podstawie zapisana jest liczba, która znajduje się obok.\n"
   ]
  },
  {
   "cell_type": "markdown",
   "metadata": {},
   "source": [
    "Zad 2.1 Znajdz najwiekszą i najmniejszą liczbę w pliku.\n"
   ]
  },
  {
   "cell_type": "markdown",
   "metadata": {},
   "source": [
    "Zad 2.2 W którym systemie jest zapisane najwięcej liczb? Ile ich jest?\n"
   ]
  },
  {
   "cell_type": "markdown",
   "metadata": {},
   "source": [
    "Zad 2.3 Jaka jest suma wszystkich liczb zapisanych w systemie dwójkowym. Odpowiedź podaj w systemie dwójkowym.\n"
   ]
  },
  {
   "cell_type": "markdown",
   "metadata": {},
   "source": [
    "Zad 2.4 Ile jest takich liczb, które zapisane w systemie dwójkowym mają więcej zer niż jedynek?\n"
   ]
  },
  {
   "cell_type": "markdown",
   "metadata": {},
   "source": [
    "Zad 2.5 Ile jest takich liczb, które są palindromami w systemie, w którym są zapisane? (palindrom to liczba, która czytana od lewej do prawej i od prawej do lewej jest taka sama np. 11010101011)\n"
   ]
  },
  {
   "cell_type": "markdown",
   "metadata": {},
   "source": [
    "Zad 2.6\n",
    "Jaka jest długość najdłuższej liczby zapisanej w swoim systemie? Wypisz jej długość. Dla dane2przyklad.txt jest to 11000110100100 a jej długość to 14.\n"
   ]
  }
 ],
 "metadata": {
  "kernelspec": {
   "display_name": "Python 3",
   "language": "python",
   "name": "python3"
  },
  "language_info": {
   "codemirror_mode": {
    "name": "ipython",
    "version": 3
   },
   "file_extension": ".py",
   "mimetype": "text/x-python",
   "name": "python",
   "nbconvert_exporter": "python",
   "pygments_lexer": "ipython3",
   "version": "3.11.6"
  }
 },
 "nbformat": 4,
 "nbformat_minor": 2
}

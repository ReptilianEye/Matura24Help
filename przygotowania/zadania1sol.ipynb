{
 "cells": [
  {
   "cell_type": "markdown",
   "metadata": {},
   "source": [
    "### 1. Napisz funkcje która sprawdza czy liczba jest parzysta i zwraca typ Boolean\n",
    "\n",
    "np. wywołania is_even(102032) zwraca True\n"
   ]
  },
  {
   "cell_type": "code",
   "execution_count": 7,
   "metadata": {},
   "outputs": [],
   "source": [
    "def is_even(number):\n",
    "    if number % 2 == 0:\n",
    "        return True\n",
    "    else:\n",
    "        return False\n",
    "\n",
    "\n",
    "def is_evenV2(number):\n",
    "    if number % 2 == 0:\n",
    "        return True\n",
    "    return False\n",
    "\n",
    "\n",
    "def is_evenV3(number):\n",
    "    return number % 2 == 0"
   ]
  },
  {
   "cell_type": "markdown",
   "metadata": {},
   "source": [
    "### 2. Napisz funkcje która zwraca sume elementów listy (nie można używać funkcji sum())\n",
    "\n",
    "np. wywołania list_sum([1,11,20,3]) zwraca 35\n"
   ]
  },
  {
   "cell_type": "code",
   "execution_count": 8,
   "metadata": {},
   "outputs": [],
   "source": [
    "def list_sum(L):\n",
    "    l_sum = 0\n",
    "    for el in L:\n",
    "        l_sum += el\n",
    "    return l_sum\n",
    "\n",
    "\n",
    "def list_sumV2(L):\n",
    "    l_sum = 0\n",
    "    for i in range(len(L)):\n",
    "        l_sum += L[i]\n",
    "    return l_sum"
   ]
  },
  {
   "cell_type": "markdown",
   "metadata": {},
   "source": [
    "### 3. Zwróc największy element listy (nie można używać funkcji max() )\n",
    "\n",
    "np. dla wywołania list_max_el([1,11,20,3]) zwraca 20\n"
   ]
  },
  {
   "cell_type": "code",
   "execution_count": 9,
   "metadata": {},
   "outputs": [],
   "source": [
    "def list_max_el(L):\n",
    "    max_v = -1\n",
    "    for el in L:\n",
    "        if el > max_v:\n",
    "            max_v = el\n",
    "    return max_v\n",
    "\n",
    "\n",
    "def list_max_elV2(L):\n",
    "    max_v = -1\n",
    "    for i in range(len(L)):\n",
    "        if L[i] > max_v:\n",
    "            max_v = L[i]\n",
    "    return max_v"
   ]
  },
  {
   "cell_type": "markdown",
   "metadata": {},
   "source": [
    "### 4. Zwróć liste która jest połączeniem dwóch\n",
    "\n",
    "np. dla concat_lists([1,5,3], [7,-1,2]) zwraca [1,5,3,7,-1,2]\n"
   ]
  },
  {
   "cell_type": "code",
   "execution_count": 10,
   "metadata": {},
   "outputs": [],
   "source": [
    "def concat_lists(L1, L2):\n",
    "    return L1+L2\n",
    "\n",
    "\n",
    "def concat_listsV2(L1, L2):\n",
    "    L3 = []\n",
    "    for el in L1:\n",
    "        L3.append(el)\n",
    "    for el in L2:\n",
    "        L3.append(el)\n",
    "    return L1"
   ]
  },
  {
   "cell_type": "markdown",
   "metadata": {},
   "source": [
    "### 5. Zwróć liste która jest połączeniem dwóch naprzemiennie\n",
    "\n",
    "np. dla concat_lists_turns([1,5,3], [7,-1,2]) zwraca [1,7,5,-1,3,2]\n"
   ]
  },
  {
   "cell_type": "code",
   "execution_count": 11,
   "metadata": {},
   "outputs": [],
   "source": [
    "# zakładam że len(L1) == len(L2)\n",
    "def concat_lists_turns(L1, L2):\n",
    "    L3 = []\n",
    "    for i in range(len(L1)):\n",
    "        L3.append(L1[i])\n",
    "        L3.append(L2[i])\n",
    "    return L3\n",
    "# nie zakładam że len(L1) == len(L2) - będę dodawał wartości naprzemian aż nie skończy się jedna z list. Potem dodam resztę z pozostałej listy\n",
    "\n",
    "\n",
    "def concat_lists_turnsV2(L1, L2):\n",
    "    L3 = []\n",
    "    i = 0\n",
    "    while i < len(L1) and i < len(L2):\n",
    "        L3.append(L1[i])\n",
    "        L3.append(L2[i])\n",
    "        i += 1\n",
    "    # jeśli skończyła się L2 to dodajemy resztę L1\n",
    "    while i < len(L1):\n",
    "        L3.append(L1[i])\n",
    "        i += 1\n",
    "    # jeśli skończyła się L1 to dodajemy resztę L2\n",
    "    while i < len(L2):\n",
    "        L3.append(L2[i])\n",
    "        i += 1\n",
    "\n",
    "    return L3"
   ]
  },
  {
   "cell_type": "markdown",
   "metadata": {},
   "source": [
    "### 6.(\\*) Zwróć posortowaną liste która jest połączeniem dwóch posortowanych list\n",
    "\n",
    "np. dla merge_lists([1,3,5], [-1,2,7]) zwraca [-1,1,2,3,5,7]\n"
   ]
  },
  {
   "cell_type": "code",
   "execution_count": 12,
   "metadata": {},
   "outputs": [],
   "source": [
    "def merge_lists(L1, L2):\n",
    "    L3 = L1 + L2\n",
    "    return sorted(L3)\n",
    "\n",
    "# porównujemy pierwsze elementy list i dodajemy mniejszy do L3\n",
    "\n",
    "\n",
    "def merge_listsV2(L1, L2):\n",
    "    L3 = []\n",
    "    i = 0\n",
    "    j = 0\n",
    "    while i < len(L1) and j < len(L2):\n",
    "        if L1[i] < L2[j]:\n",
    "            L3.append(L1[i])\n",
    "            i += 1\n",
    "        else:\n",
    "            L3.append(L2[j])\n",
    "            j += 1\n",
    "    # jeśli skończyła się L2 to dodajemy resztę L1\n",
    "    while i < len(L1):\n",
    "        L3.append(L1[i])\n",
    "        i += 1\n",
    "    # jeśli skończyła się L1 to dodajemy resztę L2\n",
    "    while j < len(L2):\n",
    "        L3.append(L2[j])\n",
    "        j += 1"
   ]
  },
  {
   "cell_type": "markdown",
   "metadata": {},
   "source": [
    "### 7. Napisz funkcje która sprawdza czy pierwsza litera jest taka sama jak ostatnia\n",
    "\n",
    "np. wywołania first_last_eq(\"Ala\") zwraca True\n",
    "np. wywołania first_last_eq(\"Tomasz\") zwraca False\n"
   ]
  },
  {
   "cell_type": "code",
   "execution_count": 13,
   "metadata": {},
   "outputs": [
    {
     "ename": "SyntaxError",
     "evalue": "expected ':' (2674682555.py, line 2)",
     "output_type": "error",
     "traceback": [
      "\u001b[1;36m  Cell \u001b[1;32mIn[13], line 2\u001b[1;36m\u001b[0m\n\u001b[1;33m    if word[0] == word[-1]\u001b[0m\n\u001b[1;37m                          ^\u001b[0m\n\u001b[1;31mSyntaxError\u001b[0m\u001b[1;31m:\u001b[0m expected ':'\n"
     ]
    }
   ],
   "source": [
    "def first_last_eqV2(word):\n",
    "    if word[0] == word[-1]\n",
    "        return True\n",
    "    else:\n",
    "        return False\n",
    "        \n",
    "def first_last_eqV2(word):\n",
    "    return word[0] == word[-1]\n"
   ]
  },
  {
   "cell_type": "markdown",
   "metadata": {},
   "source": [
    "### 8. Sprawdź czy dane słowo jest palindromem (pisze się je tak samo od przodu jak od tyłu np. kajak)\n",
    "\n",
    "np. is_palindrome(\"kajak\") zwróci True\n",
    "a is_palindrome(\"kot\") zwróci False\n",
    "\n",
    "Hint: aby dostać i-ty znak słowa należy użyć nawiasów [i] tak jak w przypadku listy\n",
    "np. fragment programu który zwraca 1 element stringu s\n",
    "s = \"świat\"\n",
    "print(s[1])\n",
    "zwróci:\n",
    "w\n"
   ]
  },
  {
   "cell_type": "code",
   "execution_count": null,
   "metadata": {},
   "outputs": [],
   "source": [
    "def is_palindrome(word):\n",
    "    return word == word[::-1]\n",
    "\n",
    "# porównując znak po znaku: mamy dwie zmienne które 'zbliżają się do siebie' od początku i końca słowa.\n",
    "# Jeśli napotkają się na różne znaki to słowo nie jest palindromem\n",
    "\n",
    "\n",
    "def is_palindromeV2(word):\n",
    "    i = 0\n",
    "    j = len(word) - 1\n",
    "    while i < j:\n",
    "        if word[i] != word[j]:\n",
    "            return False\n",
    "        i += 1\n",
    "        j -= 1"
   ]
  },
  {
   "cell_type": "markdown",
   "metadata": {},
   "source": [
    "### 9. Napisz funkcje która zamienia daną liczbę w postać binarną\n",
    "\n",
    "np. bin(22) zwróci 10110\n"
   ]
  },
  {
   "cell_type": "code",
   "execution_count": null,
   "metadata": {},
   "outputs": [],
   "source": [
    "def bin(number):\n",
    "    return bin(number)[2:]\n",
    "\n",
    "\n",
    "def binV3(number):\n",
    "    bin_str = ''\n",
    "    while number > 0:\n",
    "        bin_str = bin_str + str(number % 2)\n",
    "        number = number // 2\n",
    "    return bin_str[::-1]\n",
    "\n",
    "\n",
    "def binV3(number):\n",
    "    bin_str = ''\n",
    "    while number > 0:\n",
    "        # dodajemy reszte z dzielenia z lewej strony, aby nie odwracać stringa na końcu\n",
    "        bin_str = str(number % 2) + bin_str\n",
    "        number = number // 2\n",
    "    return bin_str"
   ]
  },
  {
   "cell_type": "markdown",
   "metadata": {},
   "source": [
    "### 10. Napisz funkcje która sprawdza czy dana liczba jest liczbą pierwszą\n",
    "\n",
    "Liczba pierwsza to taka która dzieli się tylko przez 1 i samą siebie\n",
    "np. is_prime(7) zwróci True\n",
    "a is_prime(8) zwróci False\n"
   ]
  },
  {
   "cell_type": "code",
   "execution_count": null,
   "metadata": {},
   "outputs": [],
   "source": [
    "def is_prime(number):\n",
    "    if number <= 1:\n",
    "        return False\n",
    "    for i in range(2, number):  # sprawdzamy aż do liczby\n",
    "        if number % i == 0:\n",
    "            # jeśli liczba jest podzielna przez jakąś liczbę to nie jest pierwsza\n",
    "            return False\n",
    "    return True\n",
    "\n",
    "\n",
    "# faster version\n",
    "def is_primeV2(number):\n",
    "    if number <= 1:\n",
    "        return False\n",
    "    for i in range(2, int(number**0.5)+1):  # sprawdzamy tylko do pierwiastka z liczby\n",
    "        if number % i == 0:\n",
    "            # jeśli liczba jest podzielna przez jakąś liczbę to nie jest pierwsza\n",
    "            return False\n",
    "    return True"
   ]
  }
 ],
 "metadata": {
  "kernelspec": {
   "display_name": "Python 3",
   "language": "python",
   "name": "python3"
  },
  "language_info": {
   "codemirror_mode": {
    "name": "ipython",
    "version": 3
   },
   "file_extension": ".py",
   "mimetype": "text/x-python",
   "name": "python",
   "nbconvert_exporter": "python",
   "pygments_lexer": "ipython3",
   "version": "3.11.6"
  }
 },
 "nbformat": 4,
 "nbformat_minor": 2
}

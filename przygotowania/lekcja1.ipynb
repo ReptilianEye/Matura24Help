{
 "cells": [
  {
   "cell_type": "markdown",
   "metadata": {},
   "source": [
    "funkcja wypisująca na ekran\n"
   ]
  },
  {
   "cell_type": "code",
   "execution_count": 16,
   "metadata": {},
   "outputs": [
    {
     "name": "stdout",
     "output_type": "stream",
     "text": [
      "\n"
     ]
    }
   ],
   "source": [
    "print()"
   ]
  },
  {
   "cell_type": "markdown",
   "metadata": {},
   "source": [
    "### typy zmiennych\n",
    "\n",
    "zmienne proste\n"
   ]
  },
  {
   "cell_type": "code",
   "execution_count": 17,
   "metadata": {},
   "outputs": [],
   "source": [
    "zmienna = 10  # zmienna typu Int\n",
    "zmienna2 = \"Piotrek\"  # zmienna typu String\n",
    "zmienna3 = True  # True/False     Boolean\n",
    "zmienna4 = 1.2  # Flaot\n",
    "zmienna5 = None  # NoneType"
   ]
  },
  {
   "cell_type": "markdown",
   "metadata": {},
   "source": [
    "zmienne złożone - lista\n"
   ]
  },
  {
   "cell_type": "code",
   "execution_count": 18,
   "metadata": {},
   "outputs": [
    {
     "name": "stdout",
     "output_type": "stream",
     "text": [
      "[]\n",
      "['Piotrek']\n",
      "['Piotrek', 10]\n",
      "['pierwszy', 'Piotrek', 10]\n"
     ]
    }
   ],
   "source": [
    "lista1 = []\n",
    "print(lista1)\n",
    "\n",
    "lista1.append(zmienna2)\n",
    "print(lista1)\n",
    "\n",
    "lista1.append(zmienna)\n",
    "print(lista1)\n",
    "\n",
    "lista1.insert(0, \"pierwszy\")\n",
    "print(lista1)"
   ]
  },
  {
   "cell_type": "markdown",
   "metadata": {},
   "source": [
    "## petle\n"
   ]
  },
  {
   "cell_type": "code",
   "execution_count": 19,
   "metadata": {},
   "outputs": [
    {
     "name": "stdout",
     "output_type": "stream",
     "text": [
      "0\n",
      "3\n",
      "6\n",
      "9\n",
      "12\n",
      "15\n",
      "18\n",
      "21\n",
      "24\n",
      "27\n"
     ]
    }
   ],
   "source": [
    "i = 0\n",
    "while i < 10:\n",
    "    print(i*3)\n",
    "    i += 1  # i = i + 1"
   ]
  },
  {
   "cell_type": "markdown",
   "metadata": {},
   "source": [
    "### ćw 1. wypisz 10 pierwszych liczb parzystych\n",
    "\n",
    "przykładowe rozwiązanie:\n"
   ]
  },
  {
   "cell_type": "code",
   "execution_count": 20,
   "metadata": {},
   "outputs": [
    {
     "name": "stdout",
     "output_type": "stream",
     "text": [
      "0\n",
      "2\n",
      "4\n",
      "6\n",
      "8\n",
      "10\n",
      "12\n",
      "14\n",
      "16\n",
      "18\n"
     ]
    }
   ],
   "source": [
    "i = 0\n",
    "while i < 10:\n",
    "    print(i*2)\n",
    "    i += 1  # i = i + 1"
   ]
  },
  {
   "cell_type": "markdown",
   "metadata": {},
   "source": [
    "## ćw 2. stworz liste i dodaj do niej 10 pierwszych liczb parzystych\n",
    "\n",
    "przykładowe rozwiązanie:\n"
   ]
  },
  {
   "cell_type": "code",
   "execution_count": 21,
   "metadata": {},
   "outputs": [],
   "source": [
    "l = []\n",
    "i = 0\n",
    "while i < 10:\n",
    "    l.append(i*2)\n",
    "    i += 1"
   ]
  },
  {
   "cell_type": "markdown",
   "metadata": {},
   "source": [
    "pętla for\n"
   ]
  },
  {
   "cell_type": "code",
   "execution_count": 22,
   "metadata": {},
   "outputs": [
    {
     "name": "stdout",
     "output_type": "stream",
     "text": [
      "0\n",
      "3\n",
      "6\n",
      "9\n",
      "12\n",
      "15\n",
      "18\n",
      "21\n",
      "24\n",
      "27\n"
     ]
    }
   ],
   "source": [
    "# prints numbers: 0, 3, 6, 9, 12, 15, 18, 21, 24, 27 with for loop\n",
    "for i in range(10):\n",
    "    print(i*3)"
   ]
  },
  {
   "cell_type": "markdown",
   "metadata": {},
   "source": [
    "if, else\n"
   ]
  },
  {
   "cell_type": "code",
   "execution_count": 23,
   "metadata": {},
   "outputs": [
    {
     "name": "stdout",
     "output_type": "stream",
     "text": [
      "jest noc\n"
     ]
    }
   ],
   "source": [
    "czyJestDzien = False\n",
    "\n",
    "if czyJestDzien:\n",
    "    print(\"jest dzien\")\n",
    "else:\n",
    "    print(\"jest noc\")"
   ]
  },
  {
   "cell_type": "markdown",
   "metadata": {},
   "source": [
    "## ćw 3. sprawdz czy z podanych 3 liczb mozna zbudowac trojkat\n"
   ]
  },
  {
   "cell_type": "code",
   "execution_count": 24,
   "metadata": {},
   "outputs": [],
   "source": [
    "# rozwiazanie 1\n",
    "# dla przykładowych a, b, c:\n",
    "a = 1\n",
    "b = 5\n",
    "c = 3\n",
    "\n",
    "if a > c:\n",
    "    if a > b:\n",
    "        # a jest najwieksze\n",
    "        if b + c > a:\n",
    "            print(\"tak\")\n",
    "        else:\n",
    "            print(\"nie\")\n",
    "        pass\n",
    "    else:\n",
    "        # b > a > c\n",
    "        # b jest najwieksze\n",
    "        if a + c > b:\n",
    "            print(\"tak\")\n",
    "        else:\n",
    "            print(\"nie\")\n",
    "        pass\n",
    "else:\n",
    "    # a<c\n",
    "    if c < b:\n",
    "        # a < c < b\n",
    "        # b jest najwieksze\n",
    "        pass\n",
    "# ...\n",
    "# skomplikowane - nie najlepsze podejście ale zachęcam do spróbowania dokończyć samemu"
   ]
  },
  {
   "cell_type": "code",
   "execution_count": 25,
   "metadata": {},
   "outputs": [
    {
     "name": "stdout",
     "output_type": "stream",
     "text": [
      "Nie\n"
     ]
    }
   ],
   "source": [
    "# rozwiązanie 2\n",
    "# dla przykładowych a, b, c:\n",
    "\n",
    "a = 1\n",
    "b = 5\n",
    "c = 3\n",
    "l = [a, b, c]\n",
    "max_v = max(l)\n",
    "sum_l = sum(l)\n",
    "if sum_l-max_v > max_v:\n",
    "    print(\"Tak\")\n",
    "else:\n",
    "    print(\"Nie\")"
   ]
  },
  {
   "cell_type": "markdown",
   "metadata": {},
   "source": [
    "Funkcje - definiowanie, wywoływanie\n",
    "\n",
    "Budowa funkcji:\n",
    "\n",
    "def 'nazwa funkcji' (arg1, arg2, ... ):<br />\n",
    "&nbsp; ciało funkcji <br />\n",
    "&nbsp; return 'wartość zwracana'\n"
   ]
  },
  {
   "cell_type": "markdown",
   "metadata": {},
   "source": [
    "dla przykładu: funkcja sprawdzająca czy da się utworzyć trójkąt mając dane boki a b c\n"
   ]
  },
  {
   "cell_type": "code",
   "execution_count": 26,
   "metadata": {},
   "outputs": [
    {
     "name": "stdout",
     "output_type": "stream",
     "text": [
      "True\n"
     ]
    }
   ],
   "source": [
    "def canBuildTriangle(a, b, c):  # funkcja z argumentami (a,b,c)\n",
    "    l = [a, b, c]\n",
    "    max_v = max(l)\n",
    "    sum_l = sum(l)\n",
    "    if sum_l-max_v > max_v:\n",
    "        return True\n",
    "    else:\n",
    "        return False\n",
    "\n",
    "\n",
    "# argumenty pozycyjne (a dostanie wartość 2), argumenty nazwowe (np c=5 - c dostanie wartość 5)\n",
    "response = canBuildTriangle(2, c=5, b=4)\n",
    "print(response)"
   ]
  },
  {
   "cell_type": "markdown",
   "metadata": {},
   "source": [
    "indeksowanie listy\n"
   ]
  },
  {
   "cell_type": "code",
   "execution_count": 27,
   "metadata": {},
   "outputs": [
    {
     "name": "stdout",
     "output_type": "stream",
     "text": [
      "abc\n"
     ]
    }
   ],
   "source": [
    "\n",
    "l = [12, \"abc\", True, \"poker\"]\n",
    "drugiElement = l[1]\n",
    "print(drugiElement)"
   ]
  },
  {
   "cell_type": "markdown",
   "metadata": {},
   "source": [
    "## ćw 4. napisać funkcje która sprawdza czy x jest w liście\n",
    "\n",
    "dla danych:\n",
    "l = [3, 13, 19, 14, 19, 9, 6, 12, 19, 2, 16, 19, 9, 18, 16, 16, 4, 5, 9, 5]\n",
    "x = 9\n",
    "ma zwrócić True\n"
   ]
  },
  {
   "cell_type": "code",
   "execution_count": 28,
   "metadata": {},
   "outputs": [],
   "source": [
    "# rozwiązanie 1\n",
    "def findX(L, x):\n",
    "    for el in L:\n",
    "        if el == x:\n",
    "            return True\n",
    "    return False\n",
    "\n",
    "# rozwiązanie 2 z użyciem indeksów\n",
    "\n",
    "\n",
    "def findXV2(L, x):\n",
    "    for index in range(len(L)):\n",
    "        el = L[index]\n",
    "        if el == x:\n",
    "            return index\n",
    "    return -1\n",
    "\n",
    "# rozwiązanie 3 z użyciem in\n",
    "\n",
    "\n",
    "def findXV3(L, x):\n",
    "    return x in L"
   ]
  }
 ],
 "metadata": {
  "kernelspec": {
   "display_name": "Python 3",
   "language": "python",
   "name": "python3"
  },
  "language_info": {
   "codemirror_mode": {
    "name": "ipython",
    "version": 3
   },
   "file_extension": ".py",
   "mimetype": "text/x-python",
   "name": "python",
   "nbconvert_exporter": "python",
   "pygments_lexer": "ipython3",
   "version": "3.11.6"
  }
 },
 "nbformat": 4,
 "nbformat_minor": 2
}

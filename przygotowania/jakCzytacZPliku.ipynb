{
 "cells": [
  {
   "cell_type": "markdown",
   "metadata": {},
   "source": [
    "# Jak czytać dane z pliku?\n"
   ]
  },
  {
   "cell_type": "markdown",
   "metadata": {},
   "source": [
    "Zadania maturalne opierają się na danych z pliku. W tym notebooku pokażemy jak się to robi. Rozwiązania były pisane na systemie Windows. Na innym systemie może być potrzebna zmiana formatów ścieżek plików."
   ]
  },
  {
   "cell_type": "markdown",
   "metadata": {},
   "source": [
    "## Krok 0: Przygotowanie katalogu\n",
    "\n",
    "Pobierz i przenieść pliki do katalogu gdzie będziesz rozwiązywał zadania.\n",
    "Poponuje utworzyć katalog np. matura2019 i tam przenieść pliki.\n",
    "Powinieneś mieć np. taką strukturę katalogów:\n",
    "\n",
    "- rozwiązania.py\n",
    "- plik1.txt\n",
    "- plik2.txt\n",
    "- plik3.txt\n",
    "  ...\n",
    "\n",
    "Można też zrobić osobny folder na dane. Wtedy struktura katalogów będzie wyglądać tak:\n",
    "\n",
    "- rozwiązania.py\n",
    "- /dane/\n",
    "  - plik1.txt\n",
    "  - plik2.txt\n",
    "  - plik3.txt\n",
    "    ...\n",
    "    <br>\n",
    "\n",
    "kod rozwiązujący ten przypadek znajduje się na końcu.\n"
   ]
  },
  {
   "cell_type": "markdown",
   "metadata": {},
   "source": [
    "## Krok 1: Poznaj dane i otwórz plik\n",
    "\n",
    "Ważne jest aby spojrzeć na pliki i zobaczyć w jakiej są one postaci. Będzie to również napisane w treści zadania. Na potrzeby przykładu uznamy że plik ma następujący format:\n",
    "W pierwszej lini znajduje się jedna liczba naturalna: n.\n",
    "\n",
    "- n oznacza liczbę lini, które będą w pliku. <br>\n",
    "\n",
    "Następnie znajduje się n linii, każda w postaci: <br>\n",
    "k word\n",
    "\n",
    "- gdzie k jest długością słowa word, które jest napisem składającym się z małych liter alfabetu łacińskiego. Dane są oddzielone spacją są oddzielone spacją. <br>\n",
    "\n",
    "Przykładowy plik może więc wyglądać następująco: <br>\n",
    "5 <br>\n",
    "4 abcd <br>\n",
    "10 abababababab <br>\n",
    "3 kot <br>\n",
    "2 ok <br>\n",
    "9 allokacja <br>\n"
   ]
  },
  {
   "cell_type": "markdown",
   "metadata": {},
   "source": [
    "Przygotowujemy się więc na taki format. Dane wczytamy za pomocą instrukcji <br>\n",
    "<code>with open(\\<nazwa pliku>.txt\") as file: </code> <br>\n",
    "'with' rozpoczyna blok kodu, który kończy się po wcięciu. <br>\n",
    "'open' otwiera plik. Parametr \"r\" otwiera w trybie od odczytu (read) <br>\n",
    "'as file' oznacza że plik będzie dostępny pod nazwą 'file' wewnątrz bloku kodu. <br>\n",
    "<br>\n",
    "Następnie bardzo popularne jest przejście po liniach pliku za pomocą pętli for. <br><br>\n"
   ]
  },
  {
   "cell_type": "markdown",
   "metadata": {},
   "source": [
    "###### Aby zaprezentować przykład możesz stworzyć w katalogu plik.txt i wkleić do niego przykładowe dane. Możesz też wykonać poniższy kod, który stworzy plik i wklei do niego przykładowe dane (zapisywanie danych w pliku nie jest, w mojej opini, potrzebne na maturze - wystarczy wkleić Ctrl-C + Ctrl-V output z terminala, dlatego nie tłumaczę poniższego kodu).\n"
   ]
  },
  {
   "cell_type": "code",
   "execution_count": null,
   "metadata": {},
   "outputs": [],
   "source": [
    "import random\n",
    "import string\n",
    "n = 100\n",
    "with open(\"plik.txt\", \"w\") as example_file:\n",
    "    example_file.write(f\"{n}\\n\")\n",
    "    for i in range(n):\n",
    "        k = random.randint(1, 100)\n",
    "        w = ''.join(random.choices(string.ascii_lowercase, k=k))\n",
    "        example_file.write(f\"{k} {w}\\n\")"
   ]
  },
  {
   "cell_type": "code",
   "execution_count": null,
   "metadata": {},
   "outputs": [],
   "source": [
    "with open(\"plik.txt\", \"r\") as file:\n",
    "    for line in file:\n",
    "        print(line)  # wypiszemy zawartość pliku"
   ]
  },
  {
   "cell_type": "markdown",
   "metadata": {},
   "source": [
    "Jeśli wszystko poszło dobrze to powiniśmy zobaczyć treść pliku plik.txt oddzielony putymi liniami.\n",
    "Super, teraz chcemy ten plik odpowiednio przetworzyć aby dodać np do jakiejś listy. Chcemy rozwiązać następujące problemy:\n",
    "\n",
    "1. Wartości liczbowe w typie Int (na razie są w typie String)\n",
    "2. Oddzielić pierwszą linię od reszty (ponieważ pierwsza linia jest w innym formacie niż reszta)\n",
    "3. Usunąć znaki nowej linii (jak widać na przykładzie powyżej, każda linia kończy się znakiem nowej linii, ponieważ nasza linia ma dodany znak \\n - chcemy go usunąć)\n",
    "4. Podzielić linie na części (na razie mamy jedną linię, chcemy ją podzielić na części, aby móc dodać do listy i potem łatwiej operować na danych)\n",
    "   <br><br>\n",
    "\n",
    "Powyższe problemy można rozwiązać np w następujący sposób:\n"
   ]
  },
  {
   "cell_type": "code",
   "execution_count": null,
   "metadata": {},
   "outputs": [],
   "source": [
    "with open(\"plik.txt\", \"r\") as file:\n",
    "    input = []  # lista, w której będziemy przechowywać dane\n",
    "    # wczytujemy pierwszą linię osobno, po takim wczytaniu kursor pliku przesuwa się na kolejną linię\n",
    "    n_str = file.readline()\n",
    "    n = int(n_str)  # zamieniamy napis na liczbę\n",
    "    for line in file:\n",
    "        # usuwamy białe znaki z początku i końca linii (np. znak nowej linii)\n",
    "        linePretty = line.strip()\n",
    "        # dzielimy linię na listę napisów, które były oddzielone spacją\n",
    "        lineSplitted = linePretty.split(\" \")\n",
    "        # zamieniamy pierwszy element listy (k) na liczbę\n",
    "        lineSplitted[0] = int(lineSplitted[0])\n",
    "        input.append(lineSplitted)  # dodajemy linię do listy danych\n",
    "    print(input)"
   ]
  },
  {
   "cell_type": "markdown",
   "metadata": {},
   "source": [
    "Po paru ćwiczeniach damy radę znacznie skrócić zapis:\n"
   ]
  },
  {
   "cell_type": "code",
   "execution_count": null,
   "metadata": {},
   "outputs": [],
   "source": [
    "with open(\"plik.txt\") as file:  # domyślnie tryb odczytu\n",
    "    input = []\n",
    "    n = int(file.readline())\n",
    "    for line in file:\n",
    "        lineSplitted = line.strip().split(\" \")\n",
    "        lineSplitted[0] = int(lineSplitted[0])\n",
    "        input.append(lineSplitted)\n",
    "    print(input)"
   ]
  },
  {
   "cell_type": "markdown",
   "metadata": {},
   "source": [
    "Dobrze jest w obu przypadkach wypisać dane i sprawdzić czy zgadzają się z treścią pliku, czy wczytujemy wszystko i czy odpowiednio zmieniliśmy typ danych. <br>\n"
   ]
  },
  {
   "cell_type": "markdown",
   "metadata": {},
   "source": [
    "## Krok 2: Utworzenie funkcji\n",
    "\n",
    "Taki fragment kodu dużo lepiej jest umieścić w funkcji. Dba to o porządek naszego kodu i pozwala na łatwiejsze testowanie. <br>\n"
   ]
  },
  {
   "cell_type": "code",
   "execution_count": null,
   "metadata": {},
   "outputs": [],
   "source": [
    "def read_input():\n",
    "    with open(\"plik.txt\") as file:\n",
    "        input = []\n",
    "        n = int(file.readline())\n",
    "        for line in file:\n",
    "            lineSplitted = line.strip().split(\" \")\n",
    "            lineSplitted[0] = int(lineSplitted[0])\n",
    "            input.append(lineSplitted)  # dodajemy linię do listy danych\n",
    "    return n, input"
   ]
  },
  {
   "cell_type": "markdown",
   "metadata": {},
   "source": [
    "Aby być przygotowanym na każdą ewnetualność można dodać funkcji argument z nazwą pliku. Wtedy funkcja będzie uniwersalna i będzie można ją wykorzystać w innych zadaniach (takich gdzie format pliku się nie zmienia). <br>\n"
   ]
  },
  {
   "cell_type": "code",
   "execution_count": null,
   "metadata": {},
   "outputs": [],
   "source": [
    "def read_input(file_name=\"plik.txt\"):\n",
    "    with open(file_name) as file:\n",
    "        input = []\n",
    "        n = int(file.readline())\n",
    "        for line in file:\n",
    "            lineSplitted = line.strip().split(\" \")\n",
    "            lineSplitted[0] = int(lineSplitted[0])\n",
    "            input.append(lineSplitted)  # dodajemy linię do listy danych\n",
    "    return n, input"
   ]
  },
  {
   "cell_type": "code",
   "execution_count": null,
   "metadata": {},
   "outputs": [],
   "source": [
    "n, input = read_input()\n",
    "print(n)\n",
    "print(input)"
   ]
  },
  {
   "cell_type": "markdown",
   "metadata": {},
   "source": [
    "#### Jeśli stworzyliśmy katalog na dane:\n"
   ]
  },
  {
   "cell_type": "code",
   "execution_count": null,
   "metadata": {},
   "outputs": [],
   "source": [
    "def read_input_catalog(catalog_name=\"dane\", file_name=\"plik.txt\"):\n",
    "    # r przed stringiem oznacza, że jest to tzw. raw string, czyli nie interpretujemy znaków specjalnych\n",
    "    with open(rf\"{catalog_name}\\{file_name}\") as file:\n",
    "        input = []\n",
    "        n = int(file.readline())\n",
    "        for line in file:\n",
    "            lineSplitted = line.strip().split(\" \")\n",
    "            lineSplitted[0] = int(lineSplitted[0])\n",
    "            input.append(lineSplitted)  # dodajemy linię do listy danych\n",
    "    return n, input"
   ]
  },
  {
   "cell_type": "markdown",
   "metadata": {},
   "source": [
    "## Done!\n"
   ]
  }
 ],
 "metadata": {
  "kernelspec": {
   "display_name": "Python 3",
   "language": "python",
   "name": "python3"
  },
  "language_info": {
   "codemirror_mode": {
    "name": "ipython",
    "version": 3
   },
   "file_extension": ".py",
   "mimetype": "text/x-python",
   "name": "python",
   "nbconvert_exporter": "python",
   "pygments_lexer": "ipython3",
   "version": "3.11.6"
  }
 },
 "nbformat": 4,
 "nbformat_minor": 2
}

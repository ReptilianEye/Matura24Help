{
 "cells": [
  {
   "cell_type": "markdown",
   "metadata": {},
   "source": [
    "# Jak czytać dane z pliku?\n"
   ]
  },
  {
   "cell_type": "markdown",
   "metadata": {},
   "source": [
    "Zadania maturalne opierają się na danych z pliku. W tym notebooku pokażemy jak czytać dane z pliku na przykładzie zmodyfikowanych danych z matury z informatyki z czerwca 2024.\n"
   ]
  },
  {
   "cell_type": "markdown",
   "metadata": {},
   "source": [
    "## Krok 0: Przygotowanie katalogu\n",
    "\n",
    "Pobierz i przenieść pliki do katalogu gdzie będziesz rozwiązywał zadania.\n",
    "Poponuje utworzyć katalog np. matura2019 i tam przenieść pliki.\n",
    "Powinieneś mieć np. taką strukturę katalogów:\n",
    "\n",
    "- rozwiązania.py\n",
    "- plik1.txt\n",
    "- plik2.txt\n",
    "- plik3.txt\n",
    "  ...\n",
    "\n",
    "Można też zrobić osobny folder na dane. Wtedy struktura katalogów będzie wyglądać tak:\n",
    "\n",
    "- rozwiązania.py\n",
    "- /dane/\n",
    "  - plik1.txt\n",
    "  - plik2.txt\n",
    "  - plik3.txt\n",
    "    ...\n"
   ]
  },
  {
   "cell_type": "markdown",
   "metadata": {},
   "source": [
    "##\n"
   ]
  },
  {
   "cell_type": "markdown",
   "metadata": {},
   "source": [
    "## Krok 1: Poznaj dane i otwórz plik\n",
    "\n",
    "Ważne jest aby spojrzeć na pliki i zobaczyć w jakiej są one postaci. Będzie to również napisane w treści zadania. Na potrzeby przykładu uznamy że plik ma następujący format:\n",
    "W pierwszej lini znajduje się jedna liczba naturalna: n.\n",
    "\n",
    "- n oznacza liczbę lini, które będą w pliku. <br>\n",
    "\n",
    "Następnie znajduje się n linii, każda w postaci: <br>\n",
    "k word\n",
    "\n",
    "- gdzie k jest długością słowa word, które jest napisem składającym się z małych liter alfabetu łacińskiego. Dane są oddzielone spacją są oddzielone spacją. <br>\n",
    "\n",
    "Przykładowy plik może więc wyglądać następująco: <br>\n",
    "5 <br>\n",
    "4 abcd <br>\n",
    "10 abababababab <br>\n",
    "3 kot <br>\n",
    "2 ok <br>\n",
    "9 allokacja <br>\n"
   ]
  },
  {
   "cell_type": "markdown",
   "metadata": {},
   "source": [
    "Przygotowujemy się więc na taki format. Dane wczytamy za pomocą instrukcji <br>\n",
    "<code>with open(\\<nazwa pliku>.txt\") as file: </code> <br>\n",
    "'with' rozpoczyna blok kodu, który kończy się po wcięciu. <br>\n",
    "'open' otwiera plik. Parametr \"r\" otwiera w trybie od odczytu (read) <br>\n",
    "'as file' oznacza że plik będzie dostępny pod nazwą 'file' wewnątrz bloku kodu. <br>\n",
    "<br>\n",
    "Następnie bardzo popularne jest przejście po liniach pliku za pomocą pętli for. <br><br>\n"
   ]
  },
  {
   "cell_type": "markdown",
   "metadata": {},
   "source": [
    "###### Aby zaprezentować przykład możesz stworzyć w katalogu plik.txt i wkleić do niego przykładowe dane. Możesz też wykonać poniższy kod, który stworzy plik i wklei do niego przykładowe dane (zapisywanie danych w pliku nie jest, w mojej opini, potrzebne na maturze - wystarczy wkleić Ctrl-C + Ctrl-V output z terminala, dlatego nie tłumaczę poniższego kodu).\n"
   ]
  },
  {
   "cell_type": "code",
   "execution_count": 13,
   "metadata": {},
   "outputs": [],
   "source": [
    "import random\n",
    "import string\n",
    "n = 100\n",
    "with open(\"plik.txt\", \"w\") as example_file:\n",
    "    example_file.write(f\"{n}\\n\")\n",
    "    for i in range(n):\n",
    "        k = random.randint(1, 100)\n",
    "        w = ''.join(random.choices(string.ascii_lowercase, k=k))\n",
    "        example_file.write(f\"{k} {w}\\n\")"
   ]
  },
  {
   "cell_type": "code",
   "execution_count": 14,
   "metadata": {},
   "outputs": [
    {
     "name": "stdout",
     "output_type": "stream",
     "text": [
      "100\n",
      "\n",
      "16 nikguujjnnsfxftn\n",
      "\n",
      "56 phfancxtznlvmgurmnzehqfunmmydohbivqcmrwskevhyydggurhulku\n",
      "\n",
      "66 mrbfpveajyrdkvwohpqldldppaxdhetixiwejneledeoozcauyrtepuezjhurybexh\n",
      "\n",
      "26 cpjdgztuictoehkqjfopzufdph\n",
      "\n",
      "16 kqbuszffoagzpbff\n",
      "\n",
      "2 bp\n",
      "\n",
      "66 fddifephlaaswehyxjkzvisbbxszoevdrsohddfyhfavwmvoucpflmarjlsezhkowx\n",
      "\n",
      "14 cxsexiehrvwihq\n",
      "\n",
      "44 uhqoporvfwtgynnnhszpfkznwqhlfpogthslnebkbdwn\n",
      "\n",
      "50 xhqsncuhgiaihxdmbwjnjhoyhzvqkukzejjptpqfiwivtowzvh\n",
      "\n",
      "94 plpxsovimbsroaudtjxtkajmdnyreazpsmscxinlgrhcejpuzewtjxdhugkpzkdqoxhimmtfuhghijkkxzujtvdnnnwccm\n",
      "\n",
      "15 egesknzcgdljhgk\n",
      "\n",
      "36 jesgyurchgnahgxtibkaqpifdrjzdkjmzhxf\n",
      "\n",
      "50 xmqkcgailnclemiayygzxdhuuaptzokncghqwmemhvcdrtqxvo\n",
      "\n",
      "63 bktzeoyqqvrizgkmcglarsupjruxsvbsrtijjqprkzmdwfiitoxuagttelzahii\n",
      "\n",
      "30 aimzpyxvcktmxaqqhbufaoubulayur\n",
      "\n",
      "81 whwqkrkswowducmxtnqfhzsewersccjvvqbsixhqulvogryvzqkluokvjnspfkecpreqvslsrmmkddjfu\n",
      "\n",
      "91 snyoszlacqnhgohhbtftaiauejtnhkremuphtvjhfzxathowrxccqsrzrcklpwtqfnbaskoasxmuvkqiuqhuzucyyrr\n",
      "\n",
      "58 heumloosyggupfjqhndwdospqogedhqhnzkakqztavkcldnireeijtlfip\n",
      "\n",
      "75 vvvgcyctvnyivaeqqxwgwbkgjxwjssrxeoqefuuwzqtynougqpalsiqgircyszgxdhtpbdwslxe\n",
      "\n",
      "45 kfaxdyjduteofohxpjyogtyyiquzjszeyyfbtftgbmftp\n",
      "\n",
      "35 qsexbziddpzqfkkevpkfcgtohjsyswfzxmm\n",
      "\n",
      "75 jvxxecxihaovxudbszxvsluidlizeiybqnmxiqzhyzwdmmvzykccrsrfqbpmuuwwuaxswbwablk\n",
      "\n",
      "40 ufmcfykfxpomguemdruzzdbxpccshmnptqhtxrdj\n",
      "\n",
      "36 zogoerdorjnjanlmbltcvkskgwavzjnkkuaw\n",
      "\n",
      "69 pyvpzockkogdonfmpovyhvreeuizpysatnmnoetlltbybxfeufuggcytxyrhppvgndpcl\n",
      "\n",
      "2 qc\n",
      "\n",
      "82 rombjwriebbbvjouqgfqyefobaqalwrodgcvmgayvblvapdcxffqqzzdhbgaehwxciixqikrlnlcppvdxn\n",
      "\n",
      "65 jiavswvzashiwqdosqictveoltkcctdbccwdnrbjhqnrtvhsepfxhvgaxgtfvezsb\n",
      "\n",
      "6 ukegbe\n",
      "\n",
      "41 dajtubenyeddnfipwpzzhnwlysfhvtvowqwuwmidd\n",
      "\n",
      "68 xenplgidpluhsbmnzxywgtcrhcebfmptahymhiqecgtwpphekrgyipxrttshrabimqoj\n",
      "\n",
      "11 gkcyvqdukbn\n",
      "\n",
      "40 knqklrxxfmeoairosravzdislkiopngfsuoikkmg\n",
      "\n",
      "5 xcdin\n",
      "\n",
      "18 aoputnhkunmixhjxfp\n",
      "\n",
      "94 fkirbcxvvmmzxkwdsqhsrwynytwwmuzfkqaahndadqzwtxhcudpqzqhgdlgnodmjwbwbanelaudoumlwuyvfvgwsdxikcz\n",
      "\n",
      "77 xaihfernhrsvwvwwzhqdspxxocfkrjcturpsbsgrecnbuqglmziyvnbvtmqboqywvlwemhmmrsdry\n",
      "\n",
      "34 ysotfvxcqttewjaqekhicwbmvgfuutpwmu\n",
      "\n",
      "22 xueywdyehrvzuhxhpwxqkz\n",
      "\n",
      "61 bulwhdrirjqunfvyhskclmxhfzlsmxyoaowiuexcjzljlcevdzxpsnvvjebya\n",
      "\n",
      "51 xsizekufwgxmmzieobvtauyzrumiksedgfijzuwvnsddxycezqs\n",
      "\n",
      "54 oswyknfcrencfubbaawbmyfagqpohhmltffvottvvovhducffkybxi\n",
      "\n",
      "3 fjs\n",
      "\n",
      "92 kbszwzjabqtzaafeygskklsftbfcdmzqvoddoxkmagmxtqcfdqqwdmdtizhkypbgjbdzjlmiauccxzinntmbvctbqcvw\n",
      "\n",
      "7 rlzggeu\n",
      "\n",
      "16 kjwhwpieljvzamst\n",
      "\n",
      "72 mrobkbqrfbkwiefulwplcsxvmebidxrmxxucffgdesdpjitnvudytjygtpnjforlimhhfedj\n",
      "\n",
      "23 eeykwrvwvttxjybczcqzhok\n",
      "\n",
      "92 yvaetqztlksmahwbgysdoapvtoxkjnracvoqtzcbfaidercmibtnypwphtkhaekxutvgtwynezwtppbhcjyywrjlboyp\n",
      "\n",
      "20 iptfmsxgdllnlplxnnam\n",
      "\n",
      "89 dbxajonydpkagbgxxrsfnybwunznivervgantrmlhkxqmrvhpdevbrbkmrekciujdkwzjdyybkpvywuwefhysdpei\n",
      "\n",
      "15 ydpfddycujsovsm\n",
      "\n",
      "64 zsjoeesxdzsaqhtxvlnqlbmglueicuqtskvxzhjqmyspgyclcgjxztfcbedmygyp\n",
      "\n",
      "100 ppfytiamtsoxyyplcvgzhkgdkeedbanuuanuqyntmprdjlsyroqjoyuybkqpbxroavtctdlbgsatwrbsyppkmnxnybwzglngawki\n",
      "\n",
      "6 xymwwm\n",
      "\n",
      "95 wlxbpdspbkitrfihjxlsbfnrkgyesqxycylmbvuwgcatvpaorszswvflfsakyixpiffgnjleifuuuxosnzrpyfbrxlaayzg\n",
      "\n",
      "12 bpldkssrvizc\n",
      "\n",
      "13 kuagovimdszau\n",
      "\n",
      "80 qhdakytidznkdpkvoepimeusjskludtpbtpymrmofjtgokcljpxdwmhqypijzreeevwueyulqqczwluh\n",
      "\n",
      "87 jphdkizptvvpojggkuxknorrtuccgakcxdjwnhhjootkgisivyeejdseovjresoospotelhudqnaahmihbooaok\n",
      "\n",
      "53 zzftqwveyspxhfpdkbqqjduqdueegbsibozegllglgkshrftircpo\n",
      "\n",
      "73 pwvledyzmtuvabyrrvjnzxcngnxofxrytarztuwrrzcbnqweutkpuxrulmycbztfwkzzgoydx\n",
      "\n",
      "13 irjtmjoakinjg\n",
      "\n",
      "83 oedwiwtzuehvzeexiwbtxlbygzmmcrwzzidmzgnxobiymhemfwwwtkebpcaclpatvhwizwntekdymqlnekh\n",
      "\n",
      "14 ndpafwgpdidhha\n",
      "\n",
      "33 unidulijzvisreyeclnugryfxuepdrsjg\n",
      "\n",
      "16 oszwsimyzngknuml\n",
      "\n",
      "46 ryqasdlxnjmcznkkvmjpgsshobnmudipuosxlruocncbln\n",
      "\n",
      "27 bbxbyatmdwquxpqmtsokkxmwwgp\n",
      "\n",
      "80 mfopwuqiamenrztfmhkkisqmnswoknvkctyqyyvnrqyfkwaybrwnzagghlugchqcdocfyltkmptessar\n",
      "\n",
      "39 asroyousezwsgdnbrefhjrjqtxpshokpftlhabn\n",
      "\n",
      "75 eouhwfoihmzhpvkspuiltlnjshycvqayszwhqptnhqtrqppvhxownjpelulmotuvaknvjgaeaqn\n",
      "\n",
      "44 xttzmsdqjptztoxnpqurhpgavjjvrvndndjvpshnhhpj\n",
      "\n",
      "62 ausgufhjuklqqttcwmrxtscuzaadrzipggghvsmtbvhwovqdkdjujpkiusiheg\n",
      "\n",
      "48 zbxzbmvckgejdklbjsgfdmkmvacstaqpyitxdntugvzsdfgz\n",
      "\n",
      "24 greswkfweaycifkbamitlojh\n",
      "\n",
      "84 qygchsdocebyybpsekpfkcrhinzhzhlgkwlywfrwxyvojjlzvpccdclsfvlcgfvlcfdxncvvgozwacnrnwnj\n",
      "\n",
      "87 vylmkrwarchertqchtqkrsumtsysikzamgnidxrgbnigvnkhyaxeprtknknbbzwphzawhxzzziiwlpvamfehxps\n",
      "\n",
      "12 ivzaqysvgzxv\n",
      "\n",
      "20 mqnopozohandokmvnsna\n",
      "\n",
      "31 xtbollpmogengnnwxvthiwwdqgyniet\n",
      "\n",
      "47 tkmsuxvljzjkifbvsnpadnzruxoxcfrsliavyecbsojsfzx\n",
      "\n",
      "85 qmiyqegtzruahhanhuvykgdxzbefydjmvdjukcxmdkqnqrmoajuuwvfxcfhijzqzkyosrzonyrxowecbsavzf\n",
      "\n",
      "30 rkhkledfujaffhpqpcwbwhgytxixlx\n",
      "\n",
      "46 dwqcuczdcmddogrwulscwxwyqioblqfjzqxfortogffzzx\n",
      "\n",
      "92 wvygffmtstrkqptvdfpfwqyxifhlbkxfqtfuyacyequondehxmlmtkkibckgrbbrhqesmxyznawysnzxbntmqnpyhajl\n",
      "\n",
      "74 qzxokgyrvkxrsaarxazpymckvwprryufrescemlwvablbzhiaxahyyhcplfwzkrzgugtrghhty\n",
      "\n",
      "17 mcvylyaffhvtdufkt\n",
      "\n",
      "37 wvmhmnklywoxrpdwdsykllyhwuxgihmniibbb\n",
      "\n",
      "8 swkwsril\n",
      "\n",
      "77 lpyhokwjoemnessolrppjpkjpxpqlsqxflgcxvtvedvuiwcszqigxwqpmloopusnnobjjgamzwqmn\n",
      "\n",
      "19 ynzqzexylafxstjwsbh\n",
      "\n",
      "64 svosxydmiaiqyakisgczmgqtvvslkbygnrtksfgaxslbuknrzogwgkqmxmtbqmcb\n",
      "\n",
      "25 cmaooanfzzgdwybgznwxzmdub\n",
      "\n",
      "7 hhcvhze\n",
      "\n",
      "52 rttxvvgmdznaupgfhodzgfrhxmsgygiyekpitvdfpcffdmhtleay\n",
      "\n",
      "97 hmuxsezfsmjafzatopqzwiosbbfnnpzvdthcunjfrshvvnmnrowmclvlyopaxtywpffajmctaoohgtdpxpjkwsrvbbykcvovp\n",
      "\n",
      "88 ezfrhpkvaocpraxlaghpjddrrksdvoqbhdyyaphgwwmlperrwewfaoqdpmdlcclvxpgmnpxblpnuubwihrdjzudv\n",
      "\n",
      "57 optrnerbitjmmlsplxzwtajrsgmotxzvnzegbkqmqizongddkalvomxhn\n",
      "\n"
     ]
    }
   ],
   "source": [
    "with open(\"plik.txt\", \"r\") as file:\n",
    "    for line in file:\n",
    "        print(line)  # wypiszemy zawartość pliku"
   ]
  },
  {
   "cell_type": "markdown",
   "metadata": {},
   "source": [
    "Jeśli wszystko poszło dobrze to powiniśmy zobaczyć treść pliku plik.txt oddzielony putymi liniami.\n",
    "Super, teraz chcemy ten plik odpowiednio przetworzyć aby dodać np do jakiejś listy. Chcemy rozwiązać następujące problemy:\n",
    "\n",
    "1. Wartości liczbowe w typie Int (na razie są w typie String)\n",
    "2. Oddzielić pierwszą linię od reszty (ponieważ pierwsza linia jest w innym formacie niż reszta)\n",
    "3. Usunąć znaki nowej linii (jak widać na przykładzie powyżej, każda linia kończy się znakiem nowej linii, ponieważ nasza linia ma dodany znak \\n - chcemy go usunąć)\n",
    "4. Podzielić linie na części (na razie mamy jedną linię, chcemy ją podzielić na części, aby móc dodać do listy i potem łatwiej operować na danych)\n",
    "   <br><br>\n",
    "\n",
    "Powyższe problemy można rozwiązać np w następujący sposób:\n"
   ]
  },
  {
   "cell_type": "code",
   "execution_count": 15,
   "metadata": {},
   "outputs": [
    {
     "name": "stdout",
     "output_type": "stream",
     "text": [
      "[[16, 'nikguujjnnsfxftn'], [56, 'phfancxtznlvmgurmnzehqfunmmydohbivqcmrwskevhyydggurhulku'], [66, 'mrbfpveajyrdkvwohpqldldppaxdhetixiwejneledeoozcauyrtepuezjhurybexh'], [26, 'cpjdgztuictoehkqjfopzufdph'], [16, 'kqbuszffoagzpbff'], [2, 'bp'], [66, 'fddifephlaaswehyxjkzvisbbxszoevdrsohddfyhfavwmvoucpflmarjlsezhkowx'], [14, 'cxsexiehrvwihq'], [44, 'uhqoporvfwtgynnnhszpfkznwqhlfpogthslnebkbdwn'], [50, 'xhqsncuhgiaihxdmbwjnjhoyhzvqkukzejjptpqfiwivtowzvh'], [94, 'plpxsovimbsroaudtjxtkajmdnyreazpsmscxinlgrhcejpuzewtjxdhugkpzkdqoxhimmtfuhghijkkxzujtvdnnnwccm'], [15, 'egesknzcgdljhgk'], [36, 'jesgyurchgnahgxtibkaqpifdrjzdkjmzhxf'], [50, 'xmqkcgailnclemiayygzxdhuuaptzokncghqwmemhvcdrtqxvo'], [63, 'bktzeoyqqvrizgkmcglarsupjruxsvbsrtijjqprkzmdwfiitoxuagttelzahii'], [30, 'aimzpyxvcktmxaqqhbufaoubulayur'], [81, 'whwqkrkswowducmxtnqfhzsewersccjvvqbsixhqulvogryvzqkluokvjnspfkecpreqvslsrmmkddjfu'], [91, 'snyoszlacqnhgohhbtftaiauejtnhkremuphtvjhfzxathowrxccqsrzrcklpwtqfnbaskoasxmuvkqiuqhuzucyyrr'], [58, 'heumloosyggupfjqhndwdospqogedhqhnzkakqztavkcldnireeijtlfip'], [75, 'vvvgcyctvnyivaeqqxwgwbkgjxwjssrxeoqefuuwzqtynougqpalsiqgircyszgxdhtpbdwslxe'], [45, 'kfaxdyjduteofohxpjyogtyyiquzjszeyyfbtftgbmftp'], [35, 'qsexbziddpzqfkkevpkfcgtohjsyswfzxmm'], [75, 'jvxxecxihaovxudbszxvsluidlizeiybqnmxiqzhyzwdmmvzykccrsrfqbpmuuwwuaxswbwablk'], [40, 'ufmcfykfxpomguemdruzzdbxpccshmnptqhtxrdj'], [36, 'zogoerdorjnjanlmbltcvkskgwavzjnkkuaw'], [69, 'pyvpzockkogdonfmpovyhvreeuizpysatnmnoetlltbybxfeufuggcytxyrhppvgndpcl'], [2, 'qc'], [82, 'rombjwriebbbvjouqgfqyefobaqalwrodgcvmgayvblvapdcxffqqzzdhbgaehwxciixqikrlnlcppvdxn'], [65, 'jiavswvzashiwqdosqictveoltkcctdbccwdnrbjhqnrtvhsepfxhvgaxgtfvezsb'], [6, 'ukegbe'], [41, 'dajtubenyeddnfipwpzzhnwlysfhvtvowqwuwmidd'], [68, 'xenplgidpluhsbmnzxywgtcrhcebfmptahymhiqecgtwpphekrgyipxrttshrabimqoj'], [11, 'gkcyvqdukbn'], [40, 'knqklrxxfmeoairosravzdislkiopngfsuoikkmg'], [5, 'xcdin'], [18, 'aoputnhkunmixhjxfp'], [94, 'fkirbcxvvmmzxkwdsqhsrwynytwwmuzfkqaahndadqzwtxhcudpqzqhgdlgnodmjwbwbanelaudoumlwuyvfvgwsdxikcz'], [77, 'xaihfernhrsvwvwwzhqdspxxocfkrjcturpsbsgrecnbuqglmziyvnbvtmqboqywvlwemhmmrsdry'], [34, 'ysotfvxcqttewjaqekhicwbmvgfuutpwmu'], [22, 'xueywdyehrvzuhxhpwxqkz'], [61, 'bulwhdrirjqunfvyhskclmxhfzlsmxyoaowiuexcjzljlcevdzxpsnvvjebya'], [51, 'xsizekufwgxmmzieobvtauyzrumiksedgfijzuwvnsddxycezqs'], [54, 'oswyknfcrencfubbaawbmyfagqpohhmltffvottvvovhducffkybxi'], [3, 'fjs'], [92, 'kbszwzjabqtzaafeygskklsftbfcdmzqvoddoxkmagmxtqcfdqqwdmdtizhkypbgjbdzjlmiauccxzinntmbvctbqcvw'], [7, 'rlzggeu'], [16, 'kjwhwpieljvzamst'], [72, 'mrobkbqrfbkwiefulwplcsxvmebidxrmxxucffgdesdpjitnvudytjygtpnjforlimhhfedj'], [23, 'eeykwrvwvttxjybczcqzhok'], [92, 'yvaetqztlksmahwbgysdoapvtoxkjnracvoqtzcbfaidercmibtnypwphtkhaekxutvgtwynezwtppbhcjyywrjlboyp'], [20, 'iptfmsxgdllnlplxnnam'], [89, 'dbxajonydpkagbgxxrsfnybwunznivervgantrmlhkxqmrvhpdevbrbkmrekciujdkwzjdyybkpvywuwefhysdpei'], [15, 'ydpfddycujsovsm'], [64, 'zsjoeesxdzsaqhtxvlnqlbmglueicuqtskvxzhjqmyspgyclcgjxztfcbedmygyp'], [100, 'ppfytiamtsoxyyplcvgzhkgdkeedbanuuanuqyntmprdjlsyroqjoyuybkqpbxroavtctdlbgsatwrbsyppkmnxnybwzglngawki'], [6, 'xymwwm'], [95, 'wlxbpdspbkitrfihjxlsbfnrkgyesqxycylmbvuwgcatvpaorszswvflfsakyixpiffgnjleifuuuxosnzrpyfbrxlaayzg'], [12, 'bpldkssrvizc'], [13, 'kuagovimdszau'], [80, 'qhdakytidznkdpkvoepimeusjskludtpbtpymrmofjtgokcljpxdwmhqypijzreeevwueyulqqczwluh'], [87, 'jphdkizptvvpojggkuxknorrtuccgakcxdjwnhhjootkgisivyeejdseovjresoospotelhudqnaahmihbooaok'], [53, 'zzftqwveyspxhfpdkbqqjduqdueegbsibozegllglgkshrftircpo'], [73, 'pwvledyzmtuvabyrrvjnzxcngnxofxrytarztuwrrzcbnqweutkpuxrulmycbztfwkzzgoydx'], [13, 'irjtmjoakinjg'], [83, 'oedwiwtzuehvzeexiwbtxlbygzmmcrwzzidmzgnxobiymhemfwwwtkebpcaclpatvhwizwntekdymqlnekh'], [14, 'ndpafwgpdidhha'], [33, 'unidulijzvisreyeclnugryfxuepdrsjg'], [16, 'oszwsimyzngknuml'], [46, 'ryqasdlxnjmcznkkvmjpgsshobnmudipuosxlruocncbln'], [27, 'bbxbyatmdwquxpqmtsokkxmwwgp'], [80, 'mfopwuqiamenrztfmhkkisqmnswoknvkctyqyyvnrqyfkwaybrwnzagghlugchqcdocfyltkmptessar'], [39, 'asroyousezwsgdnbrefhjrjqtxpshokpftlhabn'], [75, 'eouhwfoihmzhpvkspuiltlnjshycvqayszwhqptnhqtrqppvhxownjpelulmotuvaknvjgaeaqn'], [44, 'xttzmsdqjptztoxnpqurhpgavjjvrvndndjvpshnhhpj'], [62, 'ausgufhjuklqqttcwmrxtscuzaadrzipggghvsmtbvhwovqdkdjujpkiusiheg'], [48, 'zbxzbmvckgejdklbjsgfdmkmvacstaqpyitxdntugvzsdfgz'], [24, 'greswkfweaycifkbamitlojh'], [84, 'qygchsdocebyybpsekpfkcrhinzhzhlgkwlywfrwxyvojjlzvpccdclsfvlcgfvlcfdxncvvgozwacnrnwnj'], [87, 'vylmkrwarchertqchtqkrsumtsysikzamgnidxrgbnigvnkhyaxeprtknknbbzwphzawhxzzziiwlpvamfehxps'], [12, 'ivzaqysvgzxv'], [20, 'mqnopozohandokmvnsna'], [31, 'xtbollpmogengnnwxvthiwwdqgyniet'], [47, 'tkmsuxvljzjkifbvsnpadnzruxoxcfrsliavyecbsojsfzx'], [85, 'qmiyqegtzruahhanhuvykgdxzbefydjmvdjukcxmdkqnqrmoajuuwvfxcfhijzqzkyosrzonyrxowecbsavzf'], [30, 'rkhkledfujaffhpqpcwbwhgytxixlx'], [46, 'dwqcuczdcmddogrwulscwxwyqioblqfjzqxfortogffzzx'], [92, 'wvygffmtstrkqptvdfpfwqyxifhlbkxfqtfuyacyequondehxmlmtkkibckgrbbrhqesmxyznawysnzxbntmqnpyhajl'], [74, 'qzxokgyrvkxrsaarxazpymckvwprryufrescemlwvablbzhiaxahyyhcplfwzkrzgugtrghhty'], [17, 'mcvylyaffhvtdufkt'], [37, 'wvmhmnklywoxrpdwdsykllyhwuxgihmniibbb'], [8, 'swkwsril'], [77, 'lpyhokwjoemnessolrppjpkjpxpqlsqxflgcxvtvedvuiwcszqigxwqpmloopusnnobjjgamzwqmn'], [19, 'ynzqzexylafxstjwsbh'], [64, 'svosxydmiaiqyakisgczmgqtvvslkbygnrtksfgaxslbuknrzogwgkqmxmtbqmcb'], [25, 'cmaooanfzzgdwybgznwxzmdub'], [7, 'hhcvhze'], [52, 'rttxvvgmdznaupgfhodzgfrhxmsgygiyekpitvdfpcffdmhtleay'], [97, 'hmuxsezfsmjafzatopqzwiosbbfnnpzvdthcunjfrshvvnmnrowmclvlyopaxtywpffajmctaoohgtdpxpjkwsrvbbykcvovp'], [88, 'ezfrhpkvaocpraxlaghpjddrrksdvoqbhdyyaphgwwmlperrwewfaoqdpmdlcclvxpgmnpxblpnuubwihrdjzudv'], [57, 'optrnerbitjmmlsplxzwtajrsgmotxzvnzegbkqmqizongddkalvomxhn']]\n"
     ]
    }
   ],
   "source": [
    "with open(\"plik.txt\", \"r\") as file:\n",
    "    input = []  # lista, w której będziemy przechowywać dane\n",
    "    # wczytujemy pierwszą linię osobno, po takim wczytaniu kursor pliku przesuwa się na kolejną linię\n",
    "    n_str = file.readline()\n",
    "    n = int(n_str)  # zamieniamy napis na liczbę\n",
    "    for line in file:\n",
    "        # usuwamy białe znaki z początku i końca linii (np. znak nowej linii)\n",
    "        linePretty = line.strip()\n",
    "        # dzielimy linię na listę napisów, które były oddzielone spacją\n",
    "        lineSplitted = linePretty.split(\" \")\n",
    "        # zamieniamy pierwszy element listy (k) na liczbę\n",
    "        lineSplitted[0] = int(lineSplitted[0])\n",
    "        input.append(lineSplitted)  # dodajemy linię do listy danych\n",
    "    print(input)"
   ]
  },
  {
   "cell_type": "markdown",
   "metadata": {},
   "source": [
    "Po paru ćwiczeniach damy radę znacznie skrócić zapis:\n"
   ]
  },
  {
   "cell_type": "code",
   "execution_count": 16,
   "metadata": {},
   "outputs": [
    {
     "name": "stdout",
     "output_type": "stream",
     "text": [
      "[[16, 'nikguujjnnsfxftn'], [56, 'phfancxtznlvmgurmnzehqfunmmydohbivqcmrwskevhyydggurhulku'], [66, 'mrbfpveajyrdkvwohpqldldppaxdhetixiwejneledeoozcauyrtepuezjhurybexh'], [26, 'cpjdgztuictoehkqjfopzufdph'], [16, 'kqbuszffoagzpbff'], [2, 'bp'], [66, 'fddifephlaaswehyxjkzvisbbxszoevdrsohddfyhfavwmvoucpflmarjlsezhkowx'], [14, 'cxsexiehrvwihq'], [44, 'uhqoporvfwtgynnnhszpfkznwqhlfpogthslnebkbdwn'], [50, 'xhqsncuhgiaihxdmbwjnjhoyhzvqkukzejjptpqfiwivtowzvh'], [94, 'plpxsovimbsroaudtjxtkajmdnyreazpsmscxinlgrhcejpuzewtjxdhugkpzkdqoxhimmtfuhghijkkxzujtvdnnnwccm'], [15, 'egesknzcgdljhgk'], [36, 'jesgyurchgnahgxtibkaqpifdrjzdkjmzhxf'], [50, 'xmqkcgailnclemiayygzxdhuuaptzokncghqwmemhvcdrtqxvo'], [63, 'bktzeoyqqvrizgkmcglarsupjruxsvbsrtijjqprkzmdwfiitoxuagttelzahii'], [30, 'aimzpyxvcktmxaqqhbufaoubulayur'], [81, 'whwqkrkswowducmxtnqfhzsewersccjvvqbsixhqulvogryvzqkluokvjnspfkecpreqvslsrmmkddjfu'], [91, 'snyoszlacqnhgohhbtftaiauejtnhkremuphtvjhfzxathowrxccqsrzrcklpwtqfnbaskoasxmuvkqiuqhuzucyyrr'], [58, 'heumloosyggupfjqhndwdospqogedhqhnzkakqztavkcldnireeijtlfip'], [75, 'vvvgcyctvnyivaeqqxwgwbkgjxwjssrxeoqefuuwzqtynougqpalsiqgircyszgxdhtpbdwslxe'], [45, 'kfaxdyjduteofohxpjyogtyyiquzjszeyyfbtftgbmftp'], [35, 'qsexbziddpzqfkkevpkfcgtohjsyswfzxmm'], [75, 'jvxxecxihaovxudbszxvsluidlizeiybqnmxiqzhyzwdmmvzykccrsrfqbpmuuwwuaxswbwablk'], [40, 'ufmcfykfxpomguemdruzzdbxpccshmnptqhtxrdj'], [36, 'zogoerdorjnjanlmbltcvkskgwavzjnkkuaw'], [69, 'pyvpzockkogdonfmpovyhvreeuizpysatnmnoetlltbybxfeufuggcytxyrhppvgndpcl'], [2, 'qc'], [82, 'rombjwriebbbvjouqgfqyefobaqalwrodgcvmgayvblvapdcxffqqzzdhbgaehwxciixqikrlnlcppvdxn'], [65, 'jiavswvzashiwqdosqictveoltkcctdbccwdnrbjhqnrtvhsepfxhvgaxgtfvezsb'], [6, 'ukegbe'], [41, 'dajtubenyeddnfipwpzzhnwlysfhvtvowqwuwmidd'], [68, 'xenplgidpluhsbmnzxywgtcrhcebfmptahymhiqecgtwpphekrgyipxrttshrabimqoj'], [11, 'gkcyvqdukbn'], [40, 'knqklrxxfmeoairosravzdislkiopngfsuoikkmg'], [5, 'xcdin'], [18, 'aoputnhkunmixhjxfp'], [94, 'fkirbcxvvmmzxkwdsqhsrwynytwwmuzfkqaahndadqzwtxhcudpqzqhgdlgnodmjwbwbanelaudoumlwuyvfvgwsdxikcz'], [77, 'xaihfernhrsvwvwwzhqdspxxocfkrjcturpsbsgrecnbuqglmziyvnbvtmqboqywvlwemhmmrsdry'], [34, 'ysotfvxcqttewjaqekhicwbmvgfuutpwmu'], [22, 'xueywdyehrvzuhxhpwxqkz'], [61, 'bulwhdrirjqunfvyhskclmxhfzlsmxyoaowiuexcjzljlcevdzxpsnvvjebya'], [51, 'xsizekufwgxmmzieobvtauyzrumiksedgfijzuwvnsddxycezqs'], [54, 'oswyknfcrencfubbaawbmyfagqpohhmltffvottvvovhducffkybxi'], [3, 'fjs'], [92, 'kbszwzjabqtzaafeygskklsftbfcdmzqvoddoxkmagmxtqcfdqqwdmdtizhkypbgjbdzjlmiauccxzinntmbvctbqcvw'], [7, 'rlzggeu'], [16, 'kjwhwpieljvzamst'], [72, 'mrobkbqrfbkwiefulwplcsxvmebidxrmxxucffgdesdpjitnvudytjygtpnjforlimhhfedj'], [23, 'eeykwrvwvttxjybczcqzhok'], [92, 'yvaetqztlksmahwbgysdoapvtoxkjnracvoqtzcbfaidercmibtnypwphtkhaekxutvgtwynezwtppbhcjyywrjlboyp'], [20, 'iptfmsxgdllnlplxnnam'], [89, 'dbxajonydpkagbgxxrsfnybwunznivervgantrmlhkxqmrvhpdevbrbkmrekciujdkwzjdyybkpvywuwefhysdpei'], [15, 'ydpfddycujsovsm'], [64, 'zsjoeesxdzsaqhtxvlnqlbmglueicuqtskvxzhjqmyspgyclcgjxztfcbedmygyp'], [100, 'ppfytiamtsoxyyplcvgzhkgdkeedbanuuanuqyntmprdjlsyroqjoyuybkqpbxroavtctdlbgsatwrbsyppkmnxnybwzglngawki'], [6, 'xymwwm'], [95, 'wlxbpdspbkitrfihjxlsbfnrkgyesqxycylmbvuwgcatvpaorszswvflfsakyixpiffgnjleifuuuxosnzrpyfbrxlaayzg'], [12, 'bpldkssrvizc'], [13, 'kuagovimdszau'], [80, 'qhdakytidznkdpkvoepimeusjskludtpbtpymrmofjtgokcljpxdwmhqypijzreeevwueyulqqczwluh'], [87, 'jphdkizptvvpojggkuxknorrtuccgakcxdjwnhhjootkgisivyeejdseovjresoospotelhudqnaahmihbooaok'], [53, 'zzftqwveyspxhfpdkbqqjduqdueegbsibozegllglgkshrftircpo'], [73, 'pwvledyzmtuvabyrrvjnzxcngnxofxrytarztuwrrzcbnqweutkpuxrulmycbztfwkzzgoydx'], [13, 'irjtmjoakinjg'], [83, 'oedwiwtzuehvzeexiwbtxlbygzmmcrwzzidmzgnxobiymhemfwwwtkebpcaclpatvhwizwntekdymqlnekh'], [14, 'ndpafwgpdidhha'], [33, 'unidulijzvisreyeclnugryfxuepdrsjg'], [16, 'oszwsimyzngknuml'], [46, 'ryqasdlxnjmcznkkvmjpgsshobnmudipuosxlruocncbln'], [27, 'bbxbyatmdwquxpqmtsokkxmwwgp'], [80, 'mfopwuqiamenrztfmhkkisqmnswoknvkctyqyyvnrqyfkwaybrwnzagghlugchqcdocfyltkmptessar'], [39, 'asroyousezwsgdnbrefhjrjqtxpshokpftlhabn'], [75, 'eouhwfoihmzhpvkspuiltlnjshycvqayszwhqptnhqtrqppvhxownjpelulmotuvaknvjgaeaqn'], [44, 'xttzmsdqjptztoxnpqurhpgavjjvrvndndjvpshnhhpj'], [62, 'ausgufhjuklqqttcwmrxtscuzaadrzipggghvsmtbvhwovqdkdjujpkiusiheg'], [48, 'zbxzbmvckgejdklbjsgfdmkmvacstaqpyitxdntugvzsdfgz'], [24, 'greswkfweaycifkbamitlojh'], [84, 'qygchsdocebyybpsekpfkcrhinzhzhlgkwlywfrwxyvojjlzvpccdclsfvlcgfvlcfdxncvvgozwacnrnwnj'], [87, 'vylmkrwarchertqchtqkrsumtsysikzamgnidxrgbnigvnkhyaxeprtknknbbzwphzawhxzzziiwlpvamfehxps'], [12, 'ivzaqysvgzxv'], [20, 'mqnopozohandokmvnsna'], [31, 'xtbollpmogengnnwxvthiwwdqgyniet'], [47, 'tkmsuxvljzjkifbvsnpadnzruxoxcfrsliavyecbsojsfzx'], [85, 'qmiyqegtzruahhanhuvykgdxzbefydjmvdjukcxmdkqnqrmoajuuwvfxcfhijzqzkyosrzonyrxowecbsavzf'], [30, 'rkhkledfujaffhpqpcwbwhgytxixlx'], [46, 'dwqcuczdcmddogrwulscwxwyqioblqfjzqxfortogffzzx'], [92, 'wvygffmtstrkqptvdfpfwqyxifhlbkxfqtfuyacyequondehxmlmtkkibckgrbbrhqesmxyznawysnzxbntmqnpyhajl'], [74, 'qzxokgyrvkxrsaarxazpymckvwprryufrescemlwvablbzhiaxahyyhcplfwzkrzgugtrghhty'], [17, 'mcvylyaffhvtdufkt'], [37, 'wvmhmnklywoxrpdwdsykllyhwuxgihmniibbb'], [8, 'swkwsril'], [77, 'lpyhokwjoemnessolrppjpkjpxpqlsqxflgcxvtvedvuiwcszqigxwqpmloopusnnobjjgamzwqmn'], [19, 'ynzqzexylafxstjwsbh'], [64, 'svosxydmiaiqyakisgczmgqtvvslkbygnrtksfgaxslbuknrzogwgkqmxmtbqmcb'], [25, 'cmaooanfzzgdwybgznwxzmdub'], [7, 'hhcvhze'], [52, 'rttxvvgmdznaupgfhodzgfrhxmsgygiyekpitvdfpcffdmhtleay'], [97, 'hmuxsezfsmjafzatopqzwiosbbfnnpzvdthcunjfrshvvnmnrowmclvlyopaxtywpffajmctaoohgtdpxpjkwsrvbbykcvovp'], [88, 'ezfrhpkvaocpraxlaghpjddrrksdvoqbhdyyaphgwwmlperrwewfaoqdpmdlcclvxpgmnpxblpnuubwihrdjzudv'], [57, 'optrnerbitjmmlsplxzwtajrsgmotxzvnzegbkqmqizongddkalvomxhn']]\n"
     ]
    }
   ],
   "source": [
    "with open(\"plik.txt\") as file:  # domyślnie tryb odczytu\n",
    "    input = []\n",
    "    n = int(file.readline())\n",
    "    for line in file:\n",
    "        lineSplitted = line.strip().split(\" \")\n",
    "        lineSplitted[0] = int(lineSplitted[0])\n",
    "        input.append(lineSplitted)\n",
    "    print(input)"
   ]
  },
  {
   "cell_type": "markdown",
   "metadata": {},
   "source": [
    "Dobrze jest w obu przypadkach wypisać dane i sprawdzić czy zgadzają się z treścią pliku, czy wczytujemy wszystko i czy odpowiednio zmieniliśmy typ danych. <br>\n"
   ]
  },
  {
   "cell_type": "markdown",
   "metadata": {},
   "source": [
    "## Krok 2: Utworzenie funkcji\n",
    "\n",
    "Taki fragment kodu dużo lepiej jest umieścić w funkcji. Dba to o porządek naszego kodu i pozwala na łatwiejsze testowanie. <br>\n"
   ]
  },
  {
   "cell_type": "code",
   "execution_count": 17,
   "metadata": {},
   "outputs": [],
   "source": [
    "def read_input():\n",
    "    with open(\"plik.txt\") as file:\n",
    "        input = []\n",
    "        n = int(file.readline())\n",
    "        for line in file:\n",
    "            lineSplitted = line.strip().split(\" \")\n",
    "            lineSplitted[0] = int(lineSplitted[0])\n",
    "            input.append(lineSplitted)  # dodajemy linię do listy danych\n",
    "    return n, input"
   ]
  },
  {
   "cell_type": "markdown",
   "metadata": {},
   "source": [
    "Aby być przygotowanym na każdą ewnetualność można dodać funkcji argument z nazwą pliku. Wtedy funkcja będzie uniwersalna i będzie można ją wykorzystać w innych zadaniach (takich gdzie format pliku się nie zmienia). <br>\n"
   ]
  },
  {
   "cell_type": "code",
   "execution_count": 18,
   "metadata": {},
   "outputs": [],
   "source": [
    "def read_input(file_name=\"plik.txt\"):\n",
    "    with open(file_name) as file:\n",
    "        input = []\n",
    "        n = int(file.readline())\n",
    "        for line in file:\n",
    "            lineSplitted = line.strip().split(\" \")\n",
    "            lineSplitted[0] = int(lineSplitted[0])\n",
    "            input.append(lineSplitted)  # dodajemy linię do listy danych\n",
    "    return n, input"
   ]
  },
  {
   "cell_type": "code",
   "execution_count": 19,
   "metadata": {},
   "outputs": [
    {
     "name": "stdout",
     "output_type": "stream",
     "text": [
      "100\n",
      "[[16, 'nikguujjnnsfxftn'], [56, 'phfancxtznlvmgurmnzehqfunmmydohbivqcmrwskevhyydggurhulku'], [66, 'mrbfpveajyrdkvwohpqldldppaxdhetixiwejneledeoozcauyrtepuezjhurybexh'], [26, 'cpjdgztuictoehkqjfopzufdph'], [16, 'kqbuszffoagzpbff'], [2, 'bp'], [66, 'fddifephlaaswehyxjkzvisbbxszoevdrsohddfyhfavwmvoucpflmarjlsezhkowx'], [14, 'cxsexiehrvwihq'], [44, 'uhqoporvfwtgynnnhszpfkznwqhlfpogthslnebkbdwn'], [50, 'xhqsncuhgiaihxdmbwjnjhoyhzvqkukzejjptpqfiwivtowzvh'], [94, 'plpxsovimbsroaudtjxtkajmdnyreazpsmscxinlgrhcejpuzewtjxdhugkpzkdqoxhimmtfuhghijkkxzujtvdnnnwccm'], [15, 'egesknzcgdljhgk'], [36, 'jesgyurchgnahgxtibkaqpifdrjzdkjmzhxf'], [50, 'xmqkcgailnclemiayygzxdhuuaptzokncghqwmemhvcdrtqxvo'], [63, 'bktzeoyqqvrizgkmcglarsupjruxsvbsrtijjqprkzmdwfiitoxuagttelzahii'], [30, 'aimzpyxvcktmxaqqhbufaoubulayur'], [81, 'whwqkrkswowducmxtnqfhzsewersccjvvqbsixhqulvogryvzqkluokvjnspfkecpreqvslsrmmkddjfu'], [91, 'snyoszlacqnhgohhbtftaiauejtnhkremuphtvjhfzxathowrxccqsrzrcklpwtqfnbaskoasxmuvkqiuqhuzucyyrr'], [58, 'heumloosyggupfjqhndwdospqogedhqhnzkakqztavkcldnireeijtlfip'], [75, 'vvvgcyctvnyivaeqqxwgwbkgjxwjssrxeoqefuuwzqtynougqpalsiqgircyszgxdhtpbdwslxe'], [45, 'kfaxdyjduteofohxpjyogtyyiquzjszeyyfbtftgbmftp'], [35, 'qsexbziddpzqfkkevpkfcgtohjsyswfzxmm'], [75, 'jvxxecxihaovxudbszxvsluidlizeiybqnmxiqzhyzwdmmvzykccrsrfqbpmuuwwuaxswbwablk'], [40, 'ufmcfykfxpomguemdruzzdbxpccshmnptqhtxrdj'], [36, 'zogoerdorjnjanlmbltcvkskgwavzjnkkuaw'], [69, 'pyvpzockkogdonfmpovyhvreeuizpysatnmnoetlltbybxfeufuggcytxyrhppvgndpcl'], [2, 'qc'], [82, 'rombjwriebbbvjouqgfqyefobaqalwrodgcvmgayvblvapdcxffqqzzdhbgaehwxciixqikrlnlcppvdxn'], [65, 'jiavswvzashiwqdosqictveoltkcctdbccwdnrbjhqnrtvhsepfxhvgaxgtfvezsb'], [6, 'ukegbe'], [41, 'dajtubenyeddnfipwpzzhnwlysfhvtvowqwuwmidd'], [68, 'xenplgidpluhsbmnzxywgtcrhcebfmptahymhiqecgtwpphekrgyipxrttshrabimqoj'], [11, 'gkcyvqdukbn'], [40, 'knqklrxxfmeoairosravzdislkiopngfsuoikkmg'], [5, 'xcdin'], [18, 'aoputnhkunmixhjxfp'], [94, 'fkirbcxvvmmzxkwdsqhsrwynytwwmuzfkqaahndadqzwtxhcudpqzqhgdlgnodmjwbwbanelaudoumlwuyvfvgwsdxikcz'], [77, 'xaihfernhrsvwvwwzhqdspxxocfkrjcturpsbsgrecnbuqglmziyvnbvtmqboqywvlwemhmmrsdry'], [34, 'ysotfvxcqttewjaqekhicwbmvgfuutpwmu'], [22, 'xueywdyehrvzuhxhpwxqkz'], [61, 'bulwhdrirjqunfvyhskclmxhfzlsmxyoaowiuexcjzljlcevdzxpsnvvjebya'], [51, 'xsizekufwgxmmzieobvtauyzrumiksedgfijzuwvnsddxycezqs'], [54, 'oswyknfcrencfubbaawbmyfagqpohhmltffvottvvovhducffkybxi'], [3, 'fjs'], [92, 'kbszwzjabqtzaafeygskklsftbfcdmzqvoddoxkmagmxtqcfdqqwdmdtizhkypbgjbdzjlmiauccxzinntmbvctbqcvw'], [7, 'rlzggeu'], [16, 'kjwhwpieljvzamst'], [72, 'mrobkbqrfbkwiefulwplcsxvmebidxrmxxucffgdesdpjitnvudytjygtpnjforlimhhfedj'], [23, 'eeykwrvwvttxjybczcqzhok'], [92, 'yvaetqztlksmahwbgysdoapvtoxkjnracvoqtzcbfaidercmibtnypwphtkhaekxutvgtwynezwtppbhcjyywrjlboyp'], [20, 'iptfmsxgdllnlplxnnam'], [89, 'dbxajonydpkagbgxxrsfnybwunznivervgantrmlhkxqmrvhpdevbrbkmrekciujdkwzjdyybkpvywuwefhysdpei'], [15, 'ydpfddycujsovsm'], [64, 'zsjoeesxdzsaqhtxvlnqlbmglueicuqtskvxzhjqmyspgyclcgjxztfcbedmygyp'], [100, 'ppfytiamtsoxyyplcvgzhkgdkeedbanuuanuqyntmprdjlsyroqjoyuybkqpbxroavtctdlbgsatwrbsyppkmnxnybwzglngawki'], [6, 'xymwwm'], [95, 'wlxbpdspbkitrfihjxlsbfnrkgyesqxycylmbvuwgcatvpaorszswvflfsakyixpiffgnjleifuuuxosnzrpyfbrxlaayzg'], [12, 'bpldkssrvizc'], [13, 'kuagovimdszau'], [80, 'qhdakytidznkdpkvoepimeusjskludtpbtpymrmofjtgokcljpxdwmhqypijzreeevwueyulqqczwluh'], [87, 'jphdkizptvvpojggkuxknorrtuccgakcxdjwnhhjootkgisivyeejdseovjresoospotelhudqnaahmihbooaok'], [53, 'zzftqwveyspxhfpdkbqqjduqdueegbsibozegllglgkshrftircpo'], [73, 'pwvledyzmtuvabyrrvjnzxcngnxofxrytarztuwrrzcbnqweutkpuxrulmycbztfwkzzgoydx'], [13, 'irjtmjoakinjg'], [83, 'oedwiwtzuehvzeexiwbtxlbygzmmcrwzzidmzgnxobiymhemfwwwtkebpcaclpatvhwizwntekdymqlnekh'], [14, 'ndpafwgpdidhha'], [33, 'unidulijzvisreyeclnugryfxuepdrsjg'], [16, 'oszwsimyzngknuml'], [46, 'ryqasdlxnjmcznkkvmjpgsshobnmudipuosxlruocncbln'], [27, 'bbxbyatmdwquxpqmtsokkxmwwgp'], [80, 'mfopwuqiamenrztfmhkkisqmnswoknvkctyqyyvnrqyfkwaybrwnzagghlugchqcdocfyltkmptessar'], [39, 'asroyousezwsgdnbrefhjrjqtxpshokpftlhabn'], [75, 'eouhwfoihmzhpvkspuiltlnjshycvqayszwhqptnhqtrqppvhxownjpelulmotuvaknvjgaeaqn'], [44, 'xttzmsdqjptztoxnpqurhpgavjjvrvndndjvpshnhhpj'], [62, 'ausgufhjuklqqttcwmrxtscuzaadrzipggghvsmtbvhwovqdkdjujpkiusiheg'], [48, 'zbxzbmvckgejdklbjsgfdmkmvacstaqpyitxdntugvzsdfgz'], [24, 'greswkfweaycifkbamitlojh'], [84, 'qygchsdocebyybpsekpfkcrhinzhzhlgkwlywfrwxyvojjlzvpccdclsfvlcgfvlcfdxncvvgozwacnrnwnj'], [87, 'vylmkrwarchertqchtqkrsumtsysikzamgnidxrgbnigvnkhyaxeprtknknbbzwphzawhxzzziiwlpvamfehxps'], [12, 'ivzaqysvgzxv'], [20, 'mqnopozohandokmvnsna'], [31, 'xtbollpmogengnnwxvthiwwdqgyniet'], [47, 'tkmsuxvljzjkifbvsnpadnzruxoxcfrsliavyecbsojsfzx'], [85, 'qmiyqegtzruahhanhuvykgdxzbefydjmvdjukcxmdkqnqrmoajuuwvfxcfhijzqzkyosrzonyrxowecbsavzf'], [30, 'rkhkledfujaffhpqpcwbwhgytxixlx'], [46, 'dwqcuczdcmddogrwulscwxwyqioblqfjzqxfortogffzzx'], [92, 'wvygffmtstrkqptvdfpfwqyxifhlbkxfqtfuyacyequondehxmlmtkkibckgrbbrhqesmxyznawysnzxbntmqnpyhajl'], [74, 'qzxokgyrvkxrsaarxazpymckvwprryufrescemlwvablbzhiaxahyyhcplfwzkrzgugtrghhty'], [17, 'mcvylyaffhvtdufkt'], [37, 'wvmhmnklywoxrpdwdsykllyhwuxgihmniibbb'], [8, 'swkwsril'], [77, 'lpyhokwjoemnessolrppjpkjpxpqlsqxflgcxvtvedvuiwcszqigxwqpmloopusnnobjjgamzwqmn'], [19, 'ynzqzexylafxstjwsbh'], [64, 'svosxydmiaiqyakisgczmgqtvvslkbygnrtksfgaxslbuknrzogwgkqmxmtbqmcb'], [25, 'cmaooanfzzgdwybgznwxzmdub'], [7, 'hhcvhze'], [52, 'rttxvvgmdznaupgfhodzgfrhxmsgygiyekpitvdfpcffdmhtleay'], [97, 'hmuxsezfsmjafzatopqzwiosbbfnnpzvdthcunjfrshvvnmnrowmclvlyopaxtywpffajmctaoohgtdpxpjkwsrvbbykcvovp'], [88, 'ezfrhpkvaocpraxlaghpjddrrksdvoqbhdyyaphgwwmlperrwewfaoqdpmdlcclvxpgmnpxblpnuubwihrdjzudv'], [57, 'optrnerbitjmmlsplxzwtajrsgmotxzvnzegbkqmqizongddkalvomxhn']]\n"
     ]
    }
   ],
   "source": [
    "n, input = read_input()\n",
    "print(n)\n",
    "print(input)"
   ]
  },
  {
   "cell_type": "markdown",
   "metadata": {},
   "source": [
    "## Done!\n"
   ]
  }
 ],
 "metadata": {
  "kernelspec": {
   "display_name": "Python 3",
   "language": "python",
   "name": "python3"
  },
  "language_info": {
   "codemirror_mode": {
    "name": "ipython",
    "version": 3
   },
   "file_extension": ".py",
   "mimetype": "text/x-python",
   "name": "python",
   "nbconvert_exporter": "python",
   "pygments_lexer": "ipython3",
   "version": "3.11.6"
  }
 },
 "nbformat": 4,
 "nbformat_minor": 2
}

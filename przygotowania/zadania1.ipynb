{
 "cells": [
  {
   "cell_type": "markdown",
   "metadata": {},
   "source": [
    "### 1. Napisz funkcje która sprawdza czy liczba jest parzysta i zwraca typ Boolean\n",
    "np. wywołania is_even(102032) zwraca True"
   ]
  },
  {
   "cell_type": "code",
   "execution_count": 21,
   "metadata": {},
   "outputs": [],
   "source": [
    "def is_even(number):\n",
    "    pass"
   ]
  },
  {
   "cell_type": "markdown",
   "metadata": {},
   "source": [
    "### 2. Napisz funkcje która zwraca sume elementów listy (nie można używać funkcji sum())\n",
    "np. wywołania list_sum([1,11,20,3]) zwraca 35"
   ]
  },
  {
   "cell_type": "code",
   "execution_count": 22,
   "metadata": {},
   "outputs": [],
   "source": [
    "def list_sum(L):\n",
    "    pass"
   ]
  },
  {
   "cell_type": "markdown",
   "metadata": {},
   "source": [
    "###\t3. Zwróc największy element listy (nie można używać funkcji max() )\n",
    "np. dla wywołania list_max_el([1,11,20,3]) zwraca 20"
   ]
  },
  {
   "cell_type": "code",
   "execution_count": 23,
   "metadata": {},
   "outputs": [],
   "source": [
    "def list_max_el(L):\n",
    "    pass"
   ]
  },
  {
   "cell_type": "markdown",
   "metadata": {},
   "source": [
    "### 4. Zwróć liste która jest połączeniem dwóch \n",
    "np. dla concat_lists([1,5,3], [7,-1,2]) zwraca [1,5,3,7,-1,2]"
   ]
  },
  {
   "cell_type": "code",
   "execution_count": 24,
   "metadata": {},
   "outputs": [],
   "source": [
    "def concat_lists(L1, L2):\n",
    "    pass"
   ]
  },
  {
   "cell_type": "markdown",
   "metadata": {},
   "source": [
    "### 5. Zwróć liste która jest połączeniem dwóch naprzemiennie\n",
    "np. dla concat_lists_turns([1,5,3], [7,-1,2]) zwraca [1,7,5,-1,3,2]"
   ]
  },
  {
   "cell_type": "code",
   "execution_count": 25,
   "metadata": {},
   "outputs": [],
   "source": [
    "def concat_lists_turns(L1, L2):\n",
    "    pass"
   ]
  },
  {
   "cell_type": "markdown",
   "metadata": {},
   "source": [
    "### 6.(*)  Zwróć posortowaną liste która jest połączeniem dwóch posortowanych list\n",
    "np. dla merge_lists([1,3,5], [-1,2,7]) zwraca [-1,1,2,3,5,7]"
   ]
  },
  {
   "cell_type": "code",
   "execution_count": 26,
   "metadata": {},
   "outputs": [],
   "source": [
    "def merge_lists(L1, L2):\n",
    "    pass"
   ]
  },
  {
   "cell_type": "markdown",
   "metadata": {},
   "source": [
    "### 7. Napisz funkcje która sprawdza czy pierwsza litera jest taka sama jak ostatnia\n",
    "np. wywołania first_last_eq(\"Ala\") zwraca True\n",
    "np. wywołania first_last_eq(\"Tomasz\") zwraca False"
   ]
  },
  {
   "cell_type": "code",
   "execution_count": 27,
   "metadata": {},
   "outputs": [],
   "source": [
    "def first_last_eq(word):\n",
    "    pass"
   ]
  },
  {
   "cell_type": "markdown",
   "metadata": {},
   "source": [
    "### 8. Sprawdź czy dane słowo jest palindromem (pisze się je tak samo od przodu jak od tyłu np. kajak)\n",
    "np. is_palindrome(\"kajak\") zwróci True\n",
    "a is_palindrome(\"kot\") zwróci False\n",
    "\n",
    "Hint: aby dostać i-ty znak słowa należy użyć nawiasów [i] tak jak w przypadku listy\n",
    "np. fragment programu który zwraca 1 element stringu s\n",
    "s = \"świat\"\n",
    "print(s[1])\n",
    "zwróci:\n",
    "w"
   ]
  },
  {
   "cell_type": "code",
   "execution_count": 28,
   "metadata": {},
   "outputs": [],
   "source": [
    "def is_palindrome(word):\n",
    "    pass"
   ]
  },
  {
   "cell_type": "markdown",
   "metadata": {},
   "source": [
    "### 9. Napisz funkcje która zamienia daną liczbę w postać binarną\n",
    "np. bin(22) zwróci 10110 "
   ]
  },
  {
   "cell_type": "code",
   "execution_count": 29,
   "metadata": {},
   "outputs": [],
   "source": [
    "def bin(number):\n",
    "    pass"
   ]
  },
  {
   "cell_type": "markdown",
   "metadata": {},
   "source": [
    "### 10. Napisz funkcje która sprawdza czy dana liczba jest liczbą pierwszą\n",
    "Liczba pierwsza to taka która dzieli się tylko przez 1 i samą siebie\n",
    "np. is_prime(7) zwróci True\n",
    "a is_prime(8) zwróci False"
   ]
  },
  {
   "cell_type": "code",
   "execution_count": 30,
   "metadata": {},
   "outputs": [],
   "source": [
    "def is_prime(number):\n",
    "    pass"
   ]
  }
 ],
 "metadata": {
  "kernelspec": {
   "display_name": "Python 3",
   "language": "python",
   "name": "python3"
  },
  "language_info": {
   "codemirror_mode": {
    "name": "ipython",
    "version": 3
   },
   "file_extension": ".py",
   "mimetype": "text/x-python",
   "name": "python",
   "nbconvert_exporter": "python",
   "pygments_lexer": "ipython3",
   "version": "3.11.6"
  }
 },
 "nbformat": 4,
 "nbformat_minor": 2
}
